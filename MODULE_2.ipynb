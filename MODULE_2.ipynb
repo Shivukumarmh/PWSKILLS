{
  "nbformat": 4,
  "nbformat_minor": 0,
  "metadata": {
    "colab": {
      "provenance": []
    },
    "kernelspec": {
      "name": "python3",
      "display_name": "Python 3"
    },
    "language_info": {
      "name": "python"
    }
  },
  "cells": [
    {
      "cell_type": "markdown",
      "source": [
        "BASICS OF PYTHON\n"
      ],
      "metadata": {
        "id": "h5jO4sutQ4ds"
      }
    },
    {
      "cell_type": "code",
      "execution_count": null,
      "metadata": {
        "id": "Ufh8_V1XQrjU"
      },
      "outputs": [],
      "source": []
    },
    {
      "cell_type": "markdown",
      "source": [
        "1.   What is Python, and why is it popular\u001a?\n",
        "     - Python is the Programming language which is used to communicate with the computer.\n",
        "     - It is very easy to understand, it is versatile,it has many inbuilt libraries,and it has a active community.\n",
        "    \n",
        "\n",
        "2.    What is an interpreter in Python\u001a?\n",
        "      -\n",
        "An interpreter in Python is a program that executes Python code by translating it line-by-line into machine code that the computer can understand and run.\n",
        "      - Unlike compilers, which convert the entire program into machine code before execution, interpreters process the code sequentially at runtime.\n",
        "\n",
        "3.  What are pre-defined keywords in Python\u001a?\n",
        "    - Pre-Defined Keywords in python are those which has a specific purpose and cannot be changed.\n",
        "\n",
        "    - These values cannot be used as variable names or function or class name.\n",
        "\n",
        "4.  Can keywords be used as variable names\u001a?\n",
        "    - No\n",
        "\n",
        "5.  What is mutability in Python\u001a?\n",
        "\n",
        "    - Mutability in python means that we can able to change the value of the object/ variable which are once already created.\n",
        "\n",
        "6.  Why are lists mutable, but tuples are immutable\u001a?\n",
        "\n",
        "    - Because we can update or change the values of list once they are created(mutable\u001a) where as tuples cannot be changed once they are created(immutable\u001a).\n",
        "7. What is the difference between “==” and “is” operators in Python\u001a?\n",
        "   - '==' is the comparision operator which is used to give whether the two values are same or not which are present in the expression.\n",
        "   - It's result will be in the form of boolean.\n",
        "   - 'is' -> It is the identity operator which is used to check if both the address are same or not which are in the expression.\n",
        "\n",
        "8. What are logical operators in Python\u001a?\n",
        "   - Logical operators in Python are used to combine conditional statements and perform logical operations on boolean values (True or False). They evaluate expressions and return a boolean result based on the conditions.\n",
        "\n",
        "9. What is type casting in Python\u001a?\n",
        "   - It is the process of changing the data type from one type to another type.\n",
        "   - It is essential to perform the operations, comparisions, etc.\n",
        "   - There are two types of Type casting\n",
        "      -   i. Implicit Type- casting\n",
        "      -   ii.Explicit Type- Casting\n",
        "\n",
        "10. What is the difference between implicit and explicit type casting\u001a?\n",
        "\n",
        "    - Implicit Type Casting - The Python interpreter automatically converts one data type to another when it is safe and does not result in data loss.\n",
        "    - Explicit Type Casting_ The programmer explicitly converts one data type to another using Python's built-in functions like int(), float(), str(), etc.\n",
        "\n",
        "11.  What is the purpose of conditional statements in Python\u001a?\n",
        "    - They control the flow of the code.\n",
        "    -\n",
        "Conditional statements in Python are used to make decisions in a program by executing certain blocks of code only when specific conditions are met\n",
        "   \n",
        "12.   How does the elif statement work\u001a?\n",
        "\n",
        "   - It is the acronym of the else - if statement.\n",
        "   - When we have various conditions we will use elif statement.\n",
        "   - It works similar to else-if statements but the only difference is that here we have many conditions to be considered.\n",
        "\n",
        "13. What is the difference between for and while loops\u001a?\n",
        "   - “for” loops are used for iterating over a sequence of elements\n",
        "   - while” loops are used for executing code until a specified condition becomes False\n",
        "\n",
        "14. Describe a scenario where a while loop is more suitable than a for loop.\n",
        "\n",
        "   - When we do not know precisely about the stopping condition, while loop is useful.\n",
        "   -It is easy to implement.\n",
        "\n",
        "\n",
        "\n"
      ],
      "metadata": {
        "id": "ynGk7YFJQwGZ"
      }
    },
    {
      "cell_type": "code",
      "source": [
        "# 1 Write a Python program to print \"Hello, World!_\n",
        "\n",
        "print(\"Hello, World!\")"
      ],
      "metadata": {
        "colab": {
          "base_uri": "https://localhost:8080/"
        },
        "id": "lYB11dlTXTLA",
        "outputId": "7a537b75-1c47-4777-9e54-46a1a83e1130"
      },
      "execution_count": 1,
      "outputs": [
        {
          "output_type": "stream",
          "name": "stdout",
          "text": [
            "Hello, World!\n"
          ]
        }
      ]
    },
    {
      "cell_type": "code",
      "source": [
        "#Write a Python program that displays your name and age\n",
        "\n",
        "print(\"My name is Shivukumar\")\n",
        "print(\"My age is 20\")"
      ],
      "metadata": {
        "colab": {
          "base_uri": "https://localhost:8080/"
        },
        "id": "w-cuRQFIXlq0",
        "outputId": "c0f0c16b-baeb-405b-d8f1-eb52f184b4d7"
      },
      "execution_count": 2,
      "outputs": [
        {
          "output_type": "stream",
          "name": "stdout",
          "text": [
            "My name is Shivukumar\n",
            "My age is 20\n"
          ]
        }
      ]
    },
    {
      "cell_type": "code",
      "source": [
        "#Write code to print all the pre-defined keywords in Python using the keyword library0\n",
        "\n",
        "help(\"keywords\")"
      ],
      "metadata": {
        "colab": {
          "base_uri": "https://localhost:8080/"
        },
        "id": "qYoav2_9Xzj4",
        "outputId": "ae2c2ab1-60cb-42b1-ab2d-be6beed6aa41"
      },
      "execution_count": 3,
      "outputs": [
        {
          "output_type": "stream",
          "name": "stdout",
          "text": [
            "\n",
            "Here is a list of the Python keywords.  Enter any keyword to get more help.\n",
            "\n",
            "False               class               from                or\n",
            "None                continue            global              pass\n",
            "True                def                 if                  raise\n",
            "and                 del                 import              return\n",
            "as                  elif                in                  try\n",
            "assert              else                is                  while\n",
            "async               except              lambda              with\n",
            "await               finally             nonlocal            yield\n",
            "break               for                 not                 \n",
            "\n"
          ]
        }
      ]
    },
    {
      "cell_type": "code",
      "source": [
        "# List of Python keywords (Python 3.10+)\n",
        "python_keywords = [\n",
        "    \"False\", \"None\", \"True\", \"and\", \"as\", \"assert\", \"async\", \"await\", \"break\",\n",
        "    \"class\", \"continue\", \"def\", \"del\", \"elif\", \"else\", \"except\", \"finally\",\n",
        "    \"for\", \"from\", \"global\", \"if\", \"import\", \"in\", \"is\", \"lambda\", \"nonlocal\",\n",
        "    \"not\", \"or\", \"pass\", \"raise\", \"return\", \"try\", \"while\", \"with\", \"yield\"\n",
        "]\n",
        "\n",
        "# Get the input word from the user\n",
        "word = input(\"Enter a word to check if it's a Python keyword: \")\n",
        "\n",
        "# Check if the word is in the list of keywords\n",
        "if word in python_keywords:\n",
        "    print(f\"'{word}' is a Python keyword.\")\n",
        "else:\n",
        "    print(f\"'{word}' is NOT a Python keyword.\")\n"
      ],
      "metadata": {
        "colab": {
          "base_uri": "https://localhost:8080/"
        },
        "id": "wrjMYTOrX8QF",
        "outputId": "a722aa43-328e-4b16-98cb-f8f8dd350d21"
      },
      "execution_count": 4,
      "outputs": [
        {
          "output_type": "stream",
          "name": "stdout",
          "text": [
            "Enter a word to check if it's a Python keyword: kl\n",
            "'kl' is NOT a Python keyword.\n"
          ]
        }
      ]
    },
    {
      "cell_type": "code",
      "source": [
        "\n",
        "my_list = [1, 2, 3, 4]\n",
        "my_tuple = (1, 2, 3, 4)\n",
        "\n",
        "\n",
        "print(\"Original list:\", my_list)\n",
        "my_list[1] = 20\n",
        "print(\"Modified list:\", my_list)\n",
        "\n",
        "\n",
        "print(\"Original tuple:\", my_tuple)\n",
        "try:\n",
        "    my_tuple[1] = 20\n",
        "except TypeError as e:\n",
        "    print(\"Error when modifying tuple:\", e)\n"
      ],
      "metadata": {
        "colab": {
          "base_uri": "https://localhost:8080/"
        },
        "id": "nEgP50XpYbC4",
        "outputId": "7b8ee305-93a1-4aa0-eb03-4046b83dbb35"
      },
      "execution_count": 5,
      "outputs": [
        {
          "output_type": "stream",
          "name": "stdout",
          "text": [
            "Original list: [1, 2, 3, 4]\n",
            "Modified list: [1, 20, 3, 4]\n",
            "Original tuple: (1, 2, 3, 4)\n",
            "Error when modifying tuple: 'tuple' object does not support item assignment\n"
          ]
        }
      ]
    },
    {
      "cell_type": "code",
      "source": [
        "#Write a function to demonstrate the behavior of mutable and immutable arguments0\n",
        "\n",
        "def modify_arguments(immutable_arg, mutable_arg):\n",
        "    # Modifying the immutable argument (should not affect the original)\n",
        "    print(\"Original immutable argument:\", immutable_arg)\n",
        "    immutable_arg += 10\n",
        "    print(\"Modified immutable argument inside function:\", immutable_arg)\n",
        "\n",
        "    # Modifying the mutable argument (will affect the original)\n",
        "    print(\"Original mutable argument:\", mutable_arg)\n",
        "    mutable_arg.append(100)\n",
        "    print(\"Modified mutable argument inside function:\", mutable_arg)\n",
        "\n",
        "# Calling the function with both immutable and mutable arguments\n",
        "immutable = 5\n",
        "mutable = [1, 2, 3]\n",
        "\n",
        "modify_arguments(immutable, mutable)\n",
        "\n",
        "# Checking the values after the function call\n",
        "print(\"\\nOutside function:\")\n",
        "print(\"Immutable argument after function call:\", immutable)\n",
        "print(\"Mutable argument after function call:\", mutable)\n"
      ],
      "metadata": {
        "colab": {
          "base_uri": "https://localhost:8080/"
        },
        "id": "Mtp_bfR2Y54j",
        "outputId": "a5943895-1ef6-40f8-a408-11250fd1f59a"
      },
      "execution_count": 6,
      "outputs": [
        {
          "output_type": "stream",
          "name": "stdout",
          "text": [
            "Original immutable argument: 5\n",
            "Modified immutable argument inside function: 15\n",
            "Original mutable argument: [1, 2, 3]\n",
            "Modified mutable argument inside function: [1, 2, 3, 100]\n",
            "\n",
            "Outside function:\n",
            "Immutable argument after function call: 5\n",
            "Mutable argument after function call: [1, 2, 3, 100]\n"
          ]
        }
      ]
    },
    {
      "cell_type": "code",
      "source": [
        "#0 Write a program to demonstrate the use of logical operators\n",
        "\n",
        "# Define some variables for testing logical operators\n",
        "x = 10\n",
        "y = 5\n",
        "z = 0\n",
        "\n",
        "# Using 'and' logical operator\n",
        "if x > y and y > z:\n",
        "    print(\"Both conditions are True for 'and'\")\n",
        "\n",
        "# Using 'or' logical operator\n",
        "if x > y or y == z:\n",
        "    print(\"At least one condition is True for 'or'\")\n",
        "\n",
        "# Using 'not' logical operator\n",
        "if not z:\n",
        "    print(\"The condition is False for 'not'\")\n",
        "\n",
        "# Combining 'and', 'or', and 'not' in a more complex expression\n",
        "if (x > y and y > z) or not z:\n",
        "    print(\"The complex condition is True\")\n"
      ],
      "metadata": {
        "colab": {
          "base_uri": "https://localhost:8080/"
        },
        "id": "40ixo48EZHYF",
        "outputId": "ffc06014-00c0-45cd-a06b-9b23bf6bdc64"
      },
      "execution_count": 7,
      "outputs": [
        {
          "output_type": "stream",
          "name": "stdout",
          "text": [
            "Both conditions are True for 'and'\n",
            "At least one condition is True for 'or'\n",
            "The condition is False for 'not'\n",
            "The complex condition is True\n"
          ]
        }
      ]
    },
    {
      "cell_type": "code",
      "source": [
        "#Write a Python program to convert user input from string to integer, float, and boolean types0\n",
        "\n",
        "# Get input from the user\n",
        "user_input = input(\"Enter something: \")\n",
        "\n",
        "# Convert the input to integer (if possible)\n",
        "try:\n",
        "    user_int = int(user_input)\n",
        "    print(\"Converted to integer:\", user_int)\n",
        "except ValueError:\n",
        "    print(\"Cannot convert to integer.\")\n",
        "\n",
        "# Convert the input to float (if possible)\n",
        "try:\n",
        "    user_float = float(user_input)\n",
        "    print(\"Converted to float:\", user_float)\n",
        "except ValueError:\n",
        "    print(\"Cannot convert to float.\")\n",
        "\n",
        "# Convert the input to boolean\n",
        "# Empty strings, '0', and 'False' are considered False, while any other input is considered True\n",
        "user_bool = bool(user_input)\n",
        "print(\"Converted to boolean:\", user_bool)\n"
      ],
      "metadata": {
        "colab": {
          "base_uri": "https://localhost:8080/"
        },
        "id": "fO3w1lbSZTEd",
        "outputId": "f615acdd-a6c3-42cb-e42e-378e624b7226"
      },
      "execution_count": 8,
      "outputs": [
        {
          "output_type": "stream",
          "name": "stdout",
          "text": [
            "Enter something: 8\n",
            "Converted to integer: 8\n",
            "Converted to float: 8.0\n",
            "Converted to boolean: True\n"
          ]
        }
      ]
    },
    {
      "cell_type": "code",
      "source": [
        "# Write code to demonstrate type casting with list elements\n",
        "\n",
        "# Original list with different types of elements\n",
        "original_list = [\"10\", \"3.14\", \"True\", \"100\", \"False\"]\n",
        "\n",
        "# Convert all elements to integers (if possible)\n",
        "int_list = []\n",
        "for item in original_list:\n",
        "    try:\n",
        "        int_list.append(int(float(item)))  # First convert to float, then to int (to handle decimals)\n",
        "    except ValueError:\n",
        "        int_list.append(None)  # Append None if conversion is not possible\n",
        "\n",
        "# Convert all elements to floats\n",
        "float_list = []\n",
        "for item in original_list:\n",
        "    try:\n",
        "        float_list.append(float(item))\n",
        "    except ValueError:\n",
        "        float_list.append(None)\n",
        "\n",
        "# Convert all elements to boolean\n",
        "bool_list = []\n",
        "for item in original_list:\n",
        "    # Any non-empty string, or any non-zero value will be True\n",
        "    bool_list.append(bool(item))\n",
        "\n",
        "# Convert all elements to strings\n",
        "str_list = [str(item) for item in original_list]\n",
        "\n",
        "# Print all the lists\n",
        "print(\"Original list:\", original_list)\n",
        "print(\"Converted to integers:\", int_list)\n",
        "print(\"Converted to floats:\", float_list)\n",
        "print(\"Converted to booleans:\", bool_list)\n",
        "print(\"Converted to strings:\", str_list)\n"
      ],
      "metadata": {
        "id": "l1sjiQ5KZeiV"
      },
      "execution_count": null,
      "outputs": []
    },
    {
      "cell_type": "code",
      "source": [
        "#Write a program that checks if a number is positive, negative, or zero\n",
        "\n",
        "n = int(input(\"Enter the number: \"))\n",
        "if n > 0 :\n",
        "  print(f\"{n} is actually a positive number\")\n",
        "elif n==0 :\n",
        "  print(f\"{n} is actually zero\")\n",
        "else:\n",
        "  print(f\"{n} is actually a negative number\")"
      ],
      "metadata": {
        "colab": {
          "base_uri": "https://localhost:8080/"
        },
        "id": "G1256ZJQZnRC",
        "outputId": "8df1eb3a-7504-48ea-a1c9-124dacb43029"
      },
      "execution_count": 10,
      "outputs": [
        {
          "output_type": "stream",
          "name": "stdout",
          "text": [
            "Enter the number: 5\n",
            "5 is actually a positive number\n"
          ]
        }
      ]
    },
    {
      "cell_type": "code",
      "source": [
        "#Write a for loop to print numbers from 1 to 100\n",
        "\n",
        "for i in range(1,11):\n",
        "  print(i)"
      ],
      "metadata": {
        "colab": {
          "base_uri": "https://localhost:8080/"
        },
        "id": "xIebd01YaQhP",
        "outputId": "79b7a9d4-7250-4a46-b5b0-986c1f4adc6e"
      },
      "execution_count": 11,
      "outputs": [
        {
          "output_type": "stream",
          "name": "stdout",
          "text": [
            "1\n",
            "2\n",
            "3\n",
            "4\n",
            "5\n",
            "6\n",
            "7\n",
            "8\n",
            "9\n",
            "10\n"
          ]
        }
      ]
    },
    {
      "cell_type": "code",
      "source": [
        "#Write a Python program to find the sum of all even numbers between 1 and 50\n",
        "sum =0\n",
        "for i in range(2,51,2) :\n",
        "  sum = sum + i\n",
        "print(\"sum is\",sum)\n"
      ],
      "metadata": {
        "colab": {
          "base_uri": "https://localhost:8080/"
        },
        "id": "KBnP7cObad9p",
        "outputId": "1f7c25ef-070e-46dd-a966-130f8d108b9a"
      },
      "execution_count": 13,
      "outputs": [
        {
          "output_type": "stream",
          "name": "stdout",
          "text": [
            "sum is 650\n"
          ]
        }
      ]
    },
    {
      "cell_type": "code",
      "source": [
        "# Write a program to reverse a string using a while loop\n",
        "# Function to reverse a string using a while loop\n",
        "def reverse_string(input_string):\n",
        "    reversed_string = \"\"  # Initialize an empty string to store the reversed result\n",
        "    index = len(input_string) - 1  # Set the starting index to the last character of the string\n",
        "\n",
        "    # While loop to iterate through the string backwards\n",
        "    while index >= 0:\n",
        "        reversed_string += input_string[index]  # Append the character at the current index to the reversed string\n",
        "        index -= 1  # Move to the previous character\n",
        "\n",
        "    return reversed_string\n",
        "\n",
        "# Take input from the user\n",
        "user_input = input(\"Enter a string to reverse: \")\n",
        "\n",
        "# Reverse the string and display the result\n",
        "reversed_result = reverse_string(user_input)\n",
        "print(\"Reversed string:\", reversed_result)\n"
      ],
      "metadata": {
        "colab": {
          "base_uri": "https://localhost:8080/"
        },
        "id": "lk8OoEEValOE",
        "outputId": "e77b30cb-3c8c-4ff5-f79a-fd44c8d6ff8b"
      },
      "execution_count": 14,
      "outputs": [
        {
          "output_type": "stream",
          "name": "stdout",
          "text": [
            "Enter a string to reverse: shivu\n",
            "Reversed string: uvihs\n"
          ]
        }
      ]
    },
    {
      "cell_type": "code",
      "source": [
        "#Write a Python program to calculate the factorial of a number provided by the user using a while loop.\n",
        "\n",
        "# Function to calculate factorial using a while loop\n",
        "def calculate_factorial(n):\n",
        "    factorial = 1  # Initialize the result variable\n",
        "\n",
        "    # Ensure n is a non-negative integer\n",
        "    if n < 0:\n",
        "        return \"Factorial is not defined for negative numbers\"\n",
        "\n",
        "    # While loop to calculate factorial\n",
        "    while n > 1:\n",
        "        factorial *= n  # Multiply current value of factorial by n\n",
        "        n -= 1  # Decrease n by 1\n",
        "\n",
        "    return factorial\n",
        "\n",
        "# Take user input\n",
        "number = int(input(\"Enter a number to calculate its factorial: \"))\n",
        "\n",
        "# Calculate and display the factorial\n",
        "result = calculate_factorial(number)\n",
        "print(\"Factorial:\", result)\n"
      ],
      "metadata": {
        "colab": {
          "base_uri": "https://localhost:8080/"
        },
        "id": "UXF4Q2h1bCvv",
        "outputId": "3f8c98a5-db79-4355-fb39-ecbb8e830861"
      },
      "execution_count": 15,
      "outputs": [
        {
          "output_type": "stream",
          "name": "stdout",
          "text": [
            "Enter a number to calculate its factorial: 4\n",
            "Factorial: 24\n"
          ]
        }
      ]
    }
  ]
}
