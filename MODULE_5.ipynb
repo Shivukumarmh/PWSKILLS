{
  "nbformat": 4,
  "nbformat_minor": 0,
  "metadata": {
    "colab": {
      "provenance": []
    },
    "kernelspec": {
      "name": "python3",
      "display_name": "Python 3"
    },
    "language_info": {
      "name": "python"
    }
  },
  "cells": [
    {
      "cell_type": "code",
      "execution_count": null,
      "metadata": {
        "id": "Snrcnw3Ne0iX"
      },
      "outputs": [],
      "source": []
    },
    {
      "cell_type": "markdown",
      "source": [
        "#Python OOPs Questions\n",
        "##Module 5\n",
        "\n"
      ],
      "metadata": {
        "id": "B1dEkYjde4Oz"
      }
    },
    {
      "cell_type": "markdown",
      "source": [
        "1. What is Object-Oriented Programming (OOP)?\n",
        "    - It is organising the functions and attributes into objects and classes.\n",
        "    - OOP emphasizes encapsulation, inheritance, polymorphism, and abstraction to create modular and reusable code.\n",
        "  \n",
        "2.  What is a class in OOP?\n",
        "    - It is the blueprint/template of the object.\n",
        "    - It represent the properties of the instance.\n",
        "\n",
        "3.  What is an object in OOP?\n",
        "    - Objects are instances of classes, which define the blueprint for the object's structure and behavior.\n",
        "    - It represents a real-world entity or concept, encapsulating both its data (attributes/properties) and behavior (methods/functions) into a single unit.\n",
        "4.  What is the difference between abstraction and encapsulation?\n",
        "    - Abstraction is the process of hiding the complex/sensitive information and reveal only the necessary information to users.\n",
        "    - Encapsulation is the process of bundling of all the related elements into one unit which is achived through classes and object.\n",
        "5.   What are dunder methods in Python?\n",
        "    - These are special/magic methods which have special meaning and purpose.\n",
        "    - These are the built-in methods in pythone.\n",
        "    - These are used for creating for creating custome objects.\n",
        "\n",
        "6. Explain the concept of inheritance in OOP.\n",
        "    - It is the proces of receiving the properties/methods/attributes of parent class to derieved class.\n",
        "7. What is polymorphism in OOP?\n",
        "    - It refers to an object taking many forms/state depending on the method/data.\n",
        "    - It is achived through Method Overloading and Method Overriding.\n",
        "\n",
        "8. How is encapsulation achieved in Python?\n",
        "    - Encapsulation is achived through access control(Public,Private,Protected).\n",
        "\n",
        "9. What is a constructor in Python?\n",
        "    - A constructor is a special method that is automatically invoked when an object of a class is created.\n",
        "    - The constructor is used to initialize the attributes (data members) of the class with specific values.\n",
        "10. What are class and static methods in Python?\n",
        "    - Class Method: It is the method that is bound to the class which can modify the methods and attributes associated with class across all the instance.\n",
        "    - Static Method: It behaves as a plain function in the class withot taking self or cls as the first parameter.It can be called without creating any instance of a class.\n",
        "11.  What is method overloading in Python?\n",
        "    - Python donot support the Method overloading.But it is the within the class. Methods which are similar like same name but behave different because they take different parameters.\n",
        "12.  What is method overriding in OOP?\n",
        "    - It happens between the 2 different classes.\n",
        "    - When the same method is used in the derieved class as of the parent class,the methods created in the derieved in the derieved class will overload the parent class method.\n",
        "\n",
        "13.  What is a property decorator in Python?\n",
        "    - It helps to access methods of the class as the attribute.\n",
        "    - @property keyword is to be used.\n",
        "14.  Why is polymorphism important in OOP?\n",
        "    - Enhances Code Reusability\n",
        "    - Supports Extensibility\n",
        "    - Promotes Code Flexibility\n",
        "    - Improves Maintainability\n",
        "15. What is an abstract class in Python?\n",
        "    - An abstract class in Python is a class that serves as a blueprint for other classes. It cannot be instantiated directly and is designed to define a common interface for its subclasses.\n",
        "16. What are the advantages of OOP?\n",
        "    - Enhances Code Reusability\n",
        "    - Supports Extensibility\n",
        "    - Promotes Code Flexibility\n",
        "    - Improves Maintainability\n",
        "17. What is the difference between a class variable and an instance variable?\n",
        "    - Class Variable: It is bound to the class which will be accessed to the instance variable.\n",
        "    - Instance Variable: It is specific to one particular object.\n",
        "18. What is multiple inheritance in Python?\n",
        "    - A derieved class inheriting the properties from more than one parent class.\n",
        "\n",
        "19. Explain the purpose of ‘__str__’ and ‘__repr__’  methods in Python.\n",
        "    - __str__: This method is intended to return a \"user-friendly\" or \"readable\" string representation of an object, typically for display to end users.\n",
        "    - It is alternative for print() when used.(When printing the object using print().)\n",
        "    - __repr__ : This method is intended to return a \"developer-friendly\" or \"official\" string representation of an object, primarily for debugging.\n",
        "20. What is the significance of the ‘super()’ function in Python?\n",
        "    - It is used to access the protected member of the parent class in the derieved class.\n",
        "\n",
        "21. What is the significance of the __del__ method in Python?\n",
        "    - It helps to delete the element from the memory.\n",
        "22.  What is the difference between @staticmethod and @classmethod in Python?\n",
        "    - @staticmethod - It is the keyword used for creating the static method .\n",
        "    - @classmethod- It is the keyword used for creating the class method.\n",
        "\n",
        "23.  How does polymorphism work in Python with inheritance?\n",
        "    - Method Overriding happens when polymorphism is associated with inheritance. The method created in the child class will overpower.\n",
        "\n",
        "24. What is method chaining in Python OOP?\n",
        "    - Method chaining is a technique in Object-Oriented Programming (OOP) where multiple methods are called on the same object in a single statement, one after the other.\n",
        "    - Each method in the chain typically returns the object itself (using self), allowing the subsequent method calls to be made directly.(only return self )\n",
        "25. What is the purpose of the __call__ method in Python?\n",
        "    - This means we can create objects that behave like functions while still being able to maintain their state and encapsulate additional logic.\n",
        "    - It allows instance of a class to be called as if it were a function."
      ],
      "metadata": {
        "id": "KcQQLUeKf5aZ"
      }
    },
    {
      "cell_type": "markdown",
      "source": [
        "#Practical Questions"
      ],
      "metadata": {
        "id": "eBIFpQMtqsXP"
      }
    },
    {
      "cell_type": "code",
      "source": [
        "#1. Create a parent class Animal with a method speak() that prints a generic message. Create a child class Dog\n",
        "#that overrides the speak() method to print \"Bark!\".\n",
        "\n",
        "class Animal():\n",
        "  def speak(self):\n",
        "    print(\"This is speak method inside Animal class\")\n",
        "\n",
        "class Dog(Animal):\n",
        "  def speak(self):\n",
        "    print(\"Dog barks \")\n",
        "\n",
        "ani=Animal()\n",
        "dog=Dog()\n",
        "ani.speak()\n",
        "dog.speak()"
      ],
      "metadata": {
        "colab": {
          "base_uri": "https://localhost:8080/"
        },
        "id": "y481lZOWquQ7",
        "outputId": "86296600-72e6-46bf-dbd5-5151bedc9ba8"
      },
      "execution_count": 1,
      "outputs": [
        {
          "output_type": "stream",
          "name": "stdout",
          "text": [
            "This is speak method inside Animal class\n",
            "Dog barks \n"
          ]
        }
      ]
    },
    {
      "cell_type": "code",
      "source": [
        "#2.  Write a program to create an abstract class Shape with a method area(). Derive classes Circle and Rectangle\n",
        "#from it and implement the area() method in both.\n",
        "import abc\n",
        "class Shape():\n",
        "  @abc.abstractmethod\n",
        "  def area(self):\n",
        "    pass\n",
        "\n",
        "class Circle(Shape):\n",
        "  def __init__(self,radius):\n",
        "    self.radius=radius\n",
        "  def area(self):\n",
        "    return 3.14*self.radius*self.radius\n",
        "\n",
        "class Rectangle(Shape):\n",
        "  def __init__(self,length,width):\n",
        "    self.length=length\n",
        "    self.width=width\n",
        "  def area(self):\n",
        "    return self.length*self.width\n",
        "\n",
        "cir=Circle(6)\n",
        "rec=Rectangle(5,5)"
      ],
      "metadata": {
        "id": "2ocucbOwu_w8"
      },
      "execution_count": 5,
      "outputs": []
    },
    {
      "cell_type": "code",
      "source": [
        "cir.area()"
      ],
      "metadata": {
        "colab": {
          "base_uri": "https://localhost:8080/"
        },
        "id": "twcE-a4EwZnP",
        "outputId": "71c41022-392e-4916-daa4-5b318e5a7d8e"
      },
      "execution_count": 6,
      "outputs": [
        {
          "output_type": "execute_result",
          "data": {
            "text/plain": [
              "113.03999999999999"
            ]
          },
          "metadata": {},
          "execution_count": 6
        }
      ]
    },
    {
      "cell_type": "code",
      "source": [
        "rec.area()"
      ],
      "metadata": {
        "colab": {
          "base_uri": "https://localhost:8080/"
        },
        "id": "-RIEDc6HwbuS",
        "outputId": "29fc2953-4db2-413c-af69-15f3b8f70c7e"
      },
      "execution_count": 7,
      "outputs": [
        {
          "output_type": "execute_result",
          "data": {
            "text/plain": [
              "25"
            ]
          },
          "metadata": {},
          "execution_count": 7
        }
      ]
    },
    {
      "cell_type": "code",
      "source": [
        "#3.  Implement a multi-level inheritance scenario where a class Vehicle has an attribute type. Derive a class Car\n",
        "#and further derive a class ElectricCar that adds a battery attribute.\n",
        "class Vehicle():\n",
        "  def prop(self):\n",
        "    print(\"This is inside Vehicle class\")\n",
        "\n",
        "class Car(Vehicle):\n",
        "  def prop(self):\n",
        "    print(\"This is inside Car class\")\n",
        "\n",
        "class ElectricCar(Car):\n",
        "  def battery(self):\n",
        "    print(\"Electric car runs on battery\")"
      ],
      "metadata": {
        "id": "tITis6SCweIy"
      },
      "execution_count": 8,
      "outputs": []
    },
    {
      "cell_type": "code",
      "source": [
        "el=ElectricCar()\n",
        "el.prop()\n",
        "el.battery()"
      ],
      "metadata": {
        "colab": {
          "base_uri": "https://localhost:8080/"
        },
        "id": "suv7XGMcxeHI",
        "outputId": "dcee718d-4235-4d06-e839-5f758d89666f"
      },
      "execution_count": 10,
      "outputs": [
        {
          "output_type": "stream",
          "name": "stdout",
          "text": [
            "This is inside Car class\n",
            "Electric car runs on battery\n"
          ]
        }
      ]
    },
    {
      "cell_type": "code",
      "source": [
        "#5. Write a program to demonstrate encapsulation by creating a class BankAccount with private attributes\n",
        "#balance and methods to deposit, withdraw, and check balance.\n",
        "class Bank():\n",
        "  def __init__(self,amount):\n",
        "    self.__amount=amount\n",
        "\n",
        "  def deposit(self,amount):\n",
        "    self.__amount= self.__amount+amount\n",
        "    print(f\"Sucussffully deposited {amount}\")\n",
        "\n",
        "  def withdraw(self,amount):\n",
        "    if self.__amount>=amount:\n",
        "      self.__amount=self.__amount-amount\n",
        "    else:\n",
        "      print(\"Insufficient balance\")\n",
        "\n",
        "  def check_balance(self):\n",
        "    return self.__amount\n"
      ],
      "metadata": {
        "id": "9U1DRj1EximG"
      },
      "execution_count": 13,
      "outputs": []
    },
    {
      "cell_type": "code",
      "source": [
        "ba=Bank(5000)\n"
      ],
      "metadata": {
        "id": "-Ce_xpjV1xoM"
      },
      "execution_count": 14,
      "outputs": []
    },
    {
      "cell_type": "code",
      "source": [
        "ba.deposit(900)"
      ],
      "metadata": {
        "colab": {
          "base_uri": "https://localhost:8080/"
        },
        "id": "3NAg4ZVr10LB",
        "outputId": "ec3c19bf-8343-4aba-bc8c-f68203b23ae2"
      },
      "execution_count": 15,
      "outputs": [
        {
          "output_type": "stream",
          "name": "stdout",
          "text": [
            "Sucussffully deposited 900\n"
          ]
        }
      ]
    },
    {
      "cell_type": "code",
      "source": [
        " #6.Demonstrate runtime polymorphism using a method play() in a base class Instrument. Derive classes Guitar\n",
        "#and Piano that implement their own version of play().\n",
        "class Instrument():\n",
        "  def play(self):\n",
        "    print(\"This is play method in Instrument class\")\n",
        "class Guitar(Instrument):\n",
        "  def play(self):\n",
        "    print(\"This is play method in Guitar class\")\n",
        "class Piano(Instrument):\n",
        "  def play(self):\n",
        "    print(\"This is play method in Piano class\")"
      ],
      "metadata": {
        "id": "Gsdu_G4Q2Apf"
      },
      "execution_count": 16,
      "outputs": []
    },
    {
      "cell_type": "code",
      "source": [
        "guitar=Guitar()\n",
        "piano=Piano()\n",
        "guitar.play()\n",
        "piano.play()"
      ],
      "metadata": {
        "colab": {
          "base_uri": "https://localhost:8080/"
        },
        "id": "FVX9KL1E2SAy",
        "outputId": "05bdaa23-6280-4972-b3b4-a8a9522615ed"
      },
      "execution_count": 17,
      "outputs": [
        {
          "output_type": "stream",
          "name": "stdout",
          "text": [
            "This is play method in Guitar class\n",
            "This is play method in Piano class\n"
          ]
        }
      ]
    },
    {
      "cell_type": "code",
      "source": [
        "#7. Create a class MathOperations with a class method add_numbers() to add two numbers and a static\n",
        "#method subtract_numbers() to subtract two numbers.\n",
        "class MathOperations():\n",
        "  @classmethod\n",
        "  def add_numbers(cls,a,b):\n",
        "    return a+b\n",
        "  @staticmethod\n",
        "  def subtract_numbers(a,b):\n",
        "    return a-b"
      ],
      "metadata": {
        "id": "hLMdQ86Y2Vsa"
      },
      "execution_count": 25,
      "outputs": []
    },
    {
      "cell_type": "code",
      "source": [
        "MathOperations.add_numbers(7,8)"
      ],
      "metadata": {
        "colab": {
          "base_uri": "https://localhost:8080/"
        },
        "id": "gWpXd94H2nsv",
        "outputId": "457e6c0d-ccd6-4a24-fbfc-d633ae96bbe0"
      },
      "execution_count": 30,
      "outputs": [
        {
          "output_type": "execute_result",
          "data": {
            "text/plain": [
              "15"
            ]
          },
          "metadata": {},
          "execution_count": 30
        }
      ]
    },
    {
      "cell_type": "code",
      "source": [
        "print(MathOperations.subtract_numbers(9,4))"
      ],
      "metadata": {
        "colab": {
          "base_uri": "https://localhost:8080/"
        },
        "id": "gB8uXMCR2tMp",
        "outputId": "8220f449-ae9c-41dc-90a7-e680d952e405"
      },
      "execution_count": 29,
      "outputs": [
        {
          "output_type": "stream",
          "name": "stdout",
          "text": [
            "5\n"
          ]
        }
      ]
    },
    {
      "cell_type": "code",
      "source": [
        "#8.  Implement a class Person with a class method to count the total number of persons created.\n",
        "class Person():\n",
        "  count=0\n",
        "  def __init__(self,name):\n",
        "    self.name=name\n",
        "    Person.count = Person.count+1\n",
        "  @classmethod\n",
        "  def count_person(cls):\n",
        "    return Person.count"
      ],
      "metadata": {
        "id": "5rHZGarF3ORB"
      },
      "execution_count": 35,
      "outputs": []
    },
    {
      "cell_type": "code",
      "source": [
        "c1=Person(\"Shivu\")\n",
        "c2=Person(\"Ram\")\n",
        "c3=Person(\"Rohit\")\n",
        "Person.count_person()"
      ],
      "metadata": {
        "colab": {
          "base_uri": "https://localhost:8080/"
        },
        "id": "GjaRcOqV3l4q",
        "outputId": "f5a5c9f4-7071-4050-95b0-1b7ab2df33e8"
      },
      "execution_count": 36,
      "outputs": [
        {
          "output_type": "execute_result",
          "data": {
            "text/plain": [
              "3"
            ]
          },
          "metadata": {},
          "execution_count": 36
        }
      ]
    },
    {
      "cell_type": "code",
      "source": [
        "#9.Write a class Fraction with attributes numerator and denominator. Override the str method to display the\n",
        "#fraction as \"numerator/denominator\n",
        "\n",
        "class Fraction():\n",
        "  def __init__(self,numerator,denominator):\n",
        "    self.numerator=numerator\n",
        "    self.denominator=denominator\n",
        "  def __str__(self):\n",
        "    return f\"This is fraction represented as {self.numerator}/{self.denominator}\""
      ],
      "metadata": {
        "id": "R2fujlki3sIA"
      },
      "execution_count": 43,
      "outputs": []
    },
    {
      "cell_type": "code",
      "source": [
        "cl=Fraction(5,2)"
      ],
      "metadata": {
        "id": "cirGpACF4Mh0"
      },
      "execution_count": 44,
      "outputs": []
    },
    {
      "cell_type": "code",
      "source": [
        "print(cl)"
      ],
      "metadata": {
        "colab": {
          "base_uri": "https://localhost:8080/"
        },
        "id": "e-bRgs7P4QYo",
        "outputId": "bca02bc5-dd21-4585-f18b-cf103a060974"
      },
      "execution_count": 45,
      "outputs": [
        {
          "output_type": "stream",
          "name": "stdout",
          "text": [
            "This is fraction represented as 5/2\n"
          ]
        }
      ]
    },
    {
      "cell_type": "code",
      "source": [
        "#10 Demonstrate operator overloading by creating a class Vector and overriding the add method to add two vectors.\n",
        "class Vector:\n",
        "    def __init__(self, x, y):\n",
        "        self.x = x\n",
        "        self.y = y\n",
        "\n",
        "    def __repr__(self):\n",
        "        return f\"Vector({self.x}, {self.y})\"\n",
        "\n",
        "class Add(Vector):\n",
        "    def __init__(self, x, y):\n",
        "        super().__init__(x, y)  # Initialize base class constructor\n",
        "\n",
        "    def __add__(self, other):\n",
        "        # Overload the + operator to add two vectors\n",
        "        return Vector(self.x + other.x, self.y + other.y)\n",
        "\n",
        "# Example usage:\n",
        "vector1 = Add(2, 3)\n",
        "vector2 = Add(4, 5)\n",
        "\n",
        "result = vector1 + vector2  # This will call the __add__ method\n",
        "\n",
        "print(result)  # Output: Vector(6, 8)\n"
      ],
      "metadata": {
        "colab": {
          "base_uri": "https://localhost:8080/"
        },
        "id": "XXZBvDgP4SdV",
        "outputId": "75830c20-a8c3-4f99-9f63-ee0959da2e25"
      },
      "execution_count": 59,
      "outputs": [
        {
          "output_type": "stream",
          "name": "stdout",
          "text": [
            "Vector(6, 8)\n"
          ]
        }
      ]
    },
    {
      "cell_type": "code",
      "source": [
        "#11 Create a class Person with attributes name and age. Add a method greet() that prints \"Hello, my name is\n",
        "#{name} and I am {age} years old.\"\n",
        "class Person():\n",
        "  def __init__(self,name,age):\n",
        "    self.name=name\n",
        "    self.age=age\n",
        "  def greet(self):\n",
        "    print(f\"Hello, my name is {self.name} and I am {self.age} years old.\")"
      ],
      "metadata": {
        "id": "UyjDvh7h5mvT"
      },
      "execution_count": 58,
      "outputs": []
    },
    {
      "cell_type": "code",
      "source": [
        "p1=Person(\"Shivu\",20)"
      ],
      "metadata": {
        "id": "s9RCTwNp5yEZ"
      },
      "execution_count": 56,
      "outputs": []
    },
    {
      "cell_type": "code",
      "source": [
        "p1.greet()"
      ],
      "metadata": {
        "colab": {
          "base_uri": "https://localhost:8080/"
        },
        "id": "zwR5YM4B7ccr",
        "outputId": "1923f54a-49a8-4b9d-91b3-9a1010a6d994"
      },
      "execution_count": 57,
      "outputs": [
        {
          "output_type": "stream",
          "name": "stdout",
          "text": [
            "Hello, my name is Shivu and I am 20 years old.\n"
          ]
        }
      ]
    },
    {
      "cell_type": "code",
      "source": [
        "#12.  Implement a class Student with attributes name and grades. Create a method average_grade() to compute the average of the grades.\n",
        "class Student():\n",
        "  def __init__(self,name,grades):\n",
        "    self.name=name\n",
        "    self.grades=grades\n",
        "  def average_grade(self):\n",
        "    return sum(self.grades)/len(self.grades)"
      ],
      "metadata": {
        "id": "IU67VWha7fsc"
      },
      "execution_count": 60,
      "outputs": []
    },
    {
      "cell_type": "code",
      "source": [
        "s1=Student(\"Shivu\",(40,45,49,35,43))"
      ],
      "metadata": {
        "id": "6cPM3iD29W-l"
      },
      "execution_count": 61,
      "outputs": []
    },
    {
      "cell_type": "code",
      "source": [
        "s1.average_grade()"
      ],
      "metadata": {
        "colab": {
          "base_uri": "https://localhost:8080/"
        },
        "id": "JfE7fzwG9kjW",
        "outputId": "3ffe25cf-aad4-4130-efb4-974422d22780"
      },
      "execution_count": 62,
      "outputs": [
        {
          "output_type": "execute_result",
          "data": {
            "text/plain": [
              "42.4"
            ]
          },
          "metadata": {},
          "execution_count": 62
        }
      ]
    },
    {
      "cell_type": "code",
      "source": [
        "#13  Create a class Rectangle with methods set_dimensions() to set the dimensions and area() to calculate the area.\n",
        "class Rectangle():\n",
        "  def set_dimensions(self,length,width):\n",
        "    self.length=length\n",
        "    self.width=width\n",
        "  def area(self):\n",
        "    return self.length*self.width"
      ],
      "metadata": {
        "id": "eDB2ytpD9mLx"
      },
      "execution_count": 63,
      "outputs": []
    },
    {
      "cell_type": "code",
      "source": [
        "ob=Rectangle()"
      ],
      "metadata": {
        "id": "gWI4nwim91Eb"
      },
      "execution_count": 65,
      "outputs": []
    },
    {
      "cell_type": "code",
      "source": [
        "ob.set_dimensions(6,7)"
      ],
      "metadata": {
        "id": "ajIdKnsV93bE"
      },
      "execution_count": 66,
      "outputs": []
    },
    {
      "cell_type": "code",
      "source": [
        "ob.area()"
      ],
      "metadata": {
        "colab": {
          "base_uri": "https://localhost:8080/"
        },
        "id": "zhMrI1WA99V1",
        "outputId": "668eb9f7-5c3e-43a3-ad4e-57045e1edd03"
      },
      "execution_count": 67,
      "outputs": [
        {
          "output_type": "execute_result",
          "data": {
            "text/plain": [
              "42"
            ]
          },
          "metadata": {},
          "execution_count": 67
        }
      ]
    },
    {
      "cell_type": "code",
      "source": [
        "#14\n",
        "class Employee:\n",
        "    def __init__(self, name, hours_worked, hourly_rate):\n",
        "        self.name = name\n",
        "        self.hours_worked = hours_worked\n",
        "        self.hourly_rate = hourly_rate\n",
        "\n",
        "    def calculate_salary(self):\n",
        "        salary = self.hours_worked * self.hourly_rate\n",
        "        return salary\n",
        "\n",
        "class Manager(Employee):\n",
        "    def __init__(self, name, hours_worked, hourly_rate, bonus):\n",
        "        # Initialize the parent class (Employee) with the required parameters\n",
        "        super().__init__(name, hours_worked, hourly_rate)\n",
        "        self.bonus = bonus\n",
        "\n",
        "    def calculate_salary(self):\n",
        "        # Get the base salary from the parent class method and add the bonus\n",
        "        base_salary = super().calculate_salary()\n",
        "        total_salary = base_salary + self.bonus\n",
        "        return total_salary\n",
        "\n",
        "# Example usage:\n",
        "emp1 = Employee(\"Shivu\", 160, 20)  # 160 hours worked, 20/hour\n",
        "print(f\"Employee's salary: ${emp1.calculate_salary()}\")\n",
        "\n",
        "mgr1 = Manager(\"Ram\", 160, 25, 500)  # 160 hours worked, 25/hour, 500 bonus\n",
        "print(f\"Manager's salary: ${mgr1.calculate_salary()}\")\n"
      ],
      "metadata": {
        "colab": {
          "base_uri": "https://localhost:8080/"
        },
        "id": "iZ-2ZmsT9_Pa",
        "outputId": "d5d1a529-885e-4f80-8eb7-d114d02f7676"
      },
      "execution_count": 77,
      "outputs": [
        {
          "output_type": "stream",
          "name": "stdout",
          "text": [
            "Employee's salary: $3200\n",
            "Manager's salary: $4500\n"
          ]
        }
      ]
    },
    {
      "cell_type": "code",
      "source": [
        "#15 Create a class Product with attributes name, price, and quantity. Implement a method total_price() that calculates the total price of the product.\n",
        "class Product():\n",
        "  def __init__(self,name,price,quantity):\n",
        "    self.name=name\n",
        "    self.price=price\n",
        "    self.quantity=quantity\n",
        "  def total_price(self):\n",
        "    return self.price*self.quantity"
      ],
      "metadata": {
        "id": "6HUR1kC0-45A"
      },
      "execution_count": 78,
      "outputs": []
    },
    {
      "cell_type": "code",
      "source": [
        "p1=Product(\"Handwash\",150,6)\n",
        "p1.total_price()"
      ],
      "metadata": {
        "colab": {
          "base_uri": "https://localhost:8080/"
        },
        "id": "CLLzpBYc_-sl",
        "outputId": "5bdf0b41-9a0f-48ac-9571-6d55149daeab"
      },
      "execution_count": 79,
      "outputs": [
        {
          "output_type": "execute_result",
          "data": {
            "text/plain": [
              "900"
            ]
          },
          "metadata": {},
          "execution_count": 79
        }
      ]
    },
    {
      "cell_type": "code",
      "source": [
        "#16.  Create a class Animal with an abstract method sound(). Create two derived classes Cow and Sheep that implement the sound() method.\n",
        "import abc\n",
        "class Animal():\n",
        "  @abc.abstractmethod\n",
        "  def sound(self):\n",
        "    pass\n",
        "class Cow(Animal):\n",
        "  def sound(self):\n",
        "    print(\"Cow makes moo sound\")\n",
        "class Sheep(Animal):\n",
        "  def sound(self):\n",
        "    print(\"Sheep makes baa sound\")"
      ],
      "metadata": {
        "id": "BDtTfdkcAGO0"
      },
      "execution_count": 80,
      "outputs": []
    },
    {
      "cell_type": "code",
      "source": [
        "cow=Cow()\n",
        "sheep=Sheep()"
      ],
      "metadata": {
        "id": "v-YYSujAAmeP"
      },
      "execution_count": 82,
      "outputs": []
    },
    {
      "cell_type": "code",
      "source": [
        "cow.sound()\n",
        "sheep.sound()"
      ],
      "metadata": {
        "colab": {
          "base_uri": "https://localhost:8080/"
        },
        "id": "DYVetlYtAo07",
        "outputId": "0ee0bcdb-4293-4240-8bd0-5b4eb98c2eff"
      },
      "execution_count": 83,
      "outputs": [
        {
          "output_type": "stream",
          "name": "stdout",
          "text": [
            "Cow makes moo sound\n",
            "Sheep makes baa sound\n"
          ]
        }
      ]
    },
    {
      "cell_type": "code",
      "source": [
        "#17. Create a class Book with attributes title, author, and year_published. Add a method get_book_info() that\n",
        "#returns a formatted string with the book's details.\n",
        "class Book():\n",
        "  def __init__(self,title,author,year_published):\n",
        "    self.title=title\n",
        "    self.author=author\n",
        "    self.year_published=year_published\n",
        "\n",
        "  def get_info(self):\n",
        "    return f\"This book is {self.title} written by {self.author} and published in {self.year_published}\"\n",
        "\n",
        ""
      ],
      "metadata": {
        "id": "iKH63k7wAsq9"
      },
      "execution_count": 84,
      "outputs": []
    },
    {
      "cell_type": "code",
      "source": [
        "b1=Book(\"A Man Called Ove\",\"Fedrick Buckmann\",2012)"
      ],
      "metadata": {
        "id": "o-E9lgurBcMT"
      },
      "execution_count": 85,
      "outputs": []
    },
    {
      "cell_type": "code",
      "source": [
        "b1.get_info()"
      ],
      "metadata": {
        "colab": {
          "base_uri": "https://localhost:8080/",
          "height": 35
        },
        "id": "qHfNdU5GBk1o",
        "outputId": "b5bc009f-cf88-4611-c92f-cefb531216a3"
      },
      "execution_count": 86,
      "outputs": [
        {
          "output_type": "execute_result",
          "data": {
            "text/plain": [
              "'This book is A Man Called Ove written by Fedrick Buckmann and published in 2012'"
            ],
            "application/vnd.google.colaboratory.intrinsic+json": {
              "type": "string"
            }
          },
          "metadata": {},
          "execution_count": 86
        }
      ]
    },
    {
      "cell_type": "code",
      "source": [
        "#18 Create a class House with attributes address and price. Create a derived class Mansion that adds an\n",
        "#attribute number_of_rooms.\n",
        "class House():\n",
        "  def __init__(self,address,price):\n",
        "    self.address=address\n",
        "    self.price=price\n",
        "\n",
        "class Mansion(House):\n",
        "  def __init__(self,address,price,number_of_rooms):\n",
        "    super().__init__(address,price)\n",
        "    self.number_of_rooms=number_of_rooms"
      ],
      "metadata": {
        "id": "4vbE2USKBm3J"
      },
      "execution_count": 93,
      "outputs": []
    },
    {
      "cell_type": "code",
      "source": [
        "\n",
        "mn=Mansion(\"Karnataka\",50000,5)\n",
        "mn.number_of_rooms"
      ],
      "metadata": {
        "colab": {
          "base_uri": "https://localhost:8080/"
        },
        "id": "iTAb8mHvB8ou",
        "outputId": "e4c441dd-e230-46e9-f9ca-216cd4017374"
      },
      "execution_count": 94,
      "outputs": [
        {
          "output_type": "execute_result",
          "data": {
            "text/plain": [
              "5"
            ]
          },
          "metadata": {},
          "execution_count": 94
        }
      ]
    },
    {
      "cell_type": "code",
      "source": [],
      "metadata": {
        "id": "N64q8QkuCC06"
      },
      "execution_count": null,
      "outputs": []
    }
  ]
}