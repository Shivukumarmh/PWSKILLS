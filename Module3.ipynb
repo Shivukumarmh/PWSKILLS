{
  "nbformat": 4,
  "nbformat_minor": 0,
  "metadata": {
    "colab": {
      "provenance": []
    },
    "kernelspec": {
      "name": "python3",
      "display_name": "Python 3"
    },
    "language_info": {
      "name": "python"
    }
  },
  "cells": [
    {
      "cell_type": "code",
      "execution_count": null,
      "metadata": {
        "id": "w2wupp-GtSJk"
      },
      "outputs": [],
      "source": []
    },
    {
      "cell_type": "markdown",
      "source": [
        "#Module 3\n"
      ],
      "metadata": {
        "id": "Jd3Mk0uxSKhf"
      }
    },
    {
      "cell_type": "markdown",
      "source": [
        "#Data Types and Structures Questions\n"
      ],
      "metadata": {
        "id": "Ecmjug-WOIcO"
      }
    },
    {
      "cell_type": "markdown",
      "source": [
        "1. What are data structures, and why are they important?\n",
        "   \n",
        "   - Data structures are the specialised formats for organising , storing and accessing the data. They are required for efficient way to organise data and manipulate them.\n",
        "   -They are IMPORTANT because :\n",
        "  -Choosing the right data structure can increase the efficiency and performance.\n",
        "  -They simplify the data manipulation.\n",
        "  -Conserve the storage.\n",
        "\n",
        "2.  Explain the difference between mutable and immutable data types with examples\n",
        "\n",
        "   - Mutable:These are the data structures which can be modified once upon created.\n",
        "   - Eg : Sets,List\n",
        "   - Immutable:These are the data structures which cannot be modified once upon created.\n",
        "   - Eg : Tuples,Strings\n",
        "\n",
        "3. What are the main differences between lists and tuples in Python?\n",
        "\n",
        "    - List : These are mutable. These are represented in [ ].\n",
        "    - Tuples: These are immutable. These are represented in ( ).\n",
        "\n",
        "4. Describe how dictionaries store data.\n",
        "    - They store data in key - value pair.\n",
        "    - These are mutable and store ordered elements.\n",
        "    - Two Keys cannot have same value.\n",
        "\n",
        "5.  Why might you use a set instead of a list in Python?\n",
        "   - When we want to store unique elements in the data container.\n",
        "   - When the ordering doesnot matter.\n",
        "\n",
        "6. What is a string in Python, and how is it different from a list?\n",
        "   - String the the sequence of characters.\n",
        "   - Strings are immutable where as list are mutable.\n",
        "\n",
        "7. How do tuples ensure data integrity in Python?\n",
        "  - Tuples are immutable which ensures integrity of the Data.\n",
        "\n",
        "8. What is a hash table, and how does it relate to dictionaries in Python?\n",
        "\n",
        "  - A hash table is a data structure that maps keys to values using a process called hashing. It allows for efficient data retrieval, insertion, and deletion, typically in O(1) time complexity on average.\n",
        "  - Keys in a Python dictionary are hashed to determine their storage location.\n",
        "\n",
        "9. Can lists contain different data types in Python?\n",
        "    - Yes , list can contain different data types.\n",
        "\n",
        "10. Explain why strings are immutable in Python?\n",
        "    - Because one we create the string ,we cannot update it.\n",
        "    - If we want to update it , we have to give another variable name or reassign it.\n",
        "\n",
        "11. What advantages do dictionaries offer over lists for certain tasks?\n",
        "\n",
        "    - The key of the dictionaries are immutable.\n",
        "    - They store the key - value pair.\n",
        "12.  Describe a scenario where using a tuple would be preferable over a list.\n",
        "    - Like storing the Aadhar card number or Employee ID which we donot want to change the value once been created, at that time Tuple are preferable.\n",
        "\n",
        "13. How do sets handle duplicate values in Python?\n",
        "    - Sets automatically handle duplicate values by removing duplicates and keeping only unique elements.\n",
        "    - If the elements are duplicated , it only includes the 1 element.\n",
        "\n",
        "14. How does the “in” keyword work differently for lists and dictionaries?  \n",
        "\n",
        "   - When used with lists, the in keyword checks for membership by iterating through each element sequentially.\n",
        "   - When used with dictionaries, the in keyword checks for keys only, not values.\n",
        "  \n",
        "15. Can you modify the elements of a tuple? Explain why or why not?\n",
        "   - No, because Tuples are immutable.\n",
        "  \n",
        "16. What is a nested dictionary, and give an example of its use case?\n",
        "   - A nested dictionary in Python is a dictionary that contains one or more dictionaries as its values.\n",
        "  - students = {\n",
        "    'student1': {'name': 'Alice', 'age': 20, 'grades': {'math': 90, 'science': 85}},\n",
        "    }\n",
        "}\n",
        "\n",
        "17.  Describe the time complexity of accessing elements in a dictionary\n",
        "\n",
        "   - In Python, dictionaries are implemented using hash tables. The time complexity of accessing elements in a dictionary depends on whether we looking up, inserting, or deleting items.\n",
        "   - Time Complexity: O(1) [best case] for looking up, inserting, or deleting items.\n",
        "\n",
        "18. In what situations are lists preferred over dictionaries?\n",
        "\n",
        "   - When the data are not in the key - value pair , list are preffered.\n",
        "   - When the data requires the frequent updation like mutable list are preffered.\n",
        "\n",
        "19. Why are dictionaries considered unordered, and how does that affect data retrieval?\n",
        "\n",
        "   - The order in which we insert elements in the dictionaries donot matter. Indexing do not work in the dictionaries.\n",
        "   - They donot preserve the insertion order of elements.\n",
        "  - Data accessing will consume less time.\n",
        "  \n",
        "20.  Explain the difference between a list and a dictionary in terms of data retrieval.\n",
        "    - Indexed-based retrieval: Lists store elements in a sequential order, and data is accessed by its index (position).O(1) or O(n) time complexity.\n",
        "    - Key-based retrieval: Dictionaries store elements as key-value pairs, and data is accessed via keys.O(1) time compexity.\n"
      ],
      "metadata": {
        "id": "CUCsRuDXtS6B"
      }
    },
    {
      "cell_type": "markdown",
      "source": [
        "#Practical Questions\n",
        "\n"
      ],
      "metadata": {
        "id": "z5g8ZJuMOO6s"
      }
    },
    {
      "cell_type": "code",
      "source": [
        "#1 Write a code to create a string with your name and print it\n",
        "name=\"Shivukumar M Hotagi\"\n",
        "print(name)"
      ],
      "metadata": {
        "colab": {
          "base_uri": "https://localhost:8080/",
          "height": 0
        },
        "id": "vUaxpoDwOT0B",
        "outputId": "1505bdb2-a397-4446-82b5-6f71977eda3f"
      },
      "execution_count": 1,
      "outputs": [
        {
          "output_type": "stream",
          "name": "stdout",
          "text": [
            "Shivukumar M Hotagi\n"
          ]
        }
      ]
    },
    {
      "cell_type": "code",
      "source": [
        "#2  Write a code to find the length of the string \"Hello World\"\n",
        "str=\"Hello World\"\n",
        "print(len(str))"
      ],
      "metadata": {
        "colab": {
          "base_uri": "https://localhost:8080/",
          "height": 0
        },
        "id": "X3MRIQ-6Ol5A",
        "outputId": "14e46ebb-15d2-45d5-d6f3-2cd164db1154"
      },
      "execution_count": 2,
      "outputs": [
        {
          "output_type": "stream",
          "name": "stdout",
          "text": [
            "11\n"
          ]
        }
      ]
    },
    {
      "cell_type": "code",
      "source": [
        "#3 Write a code to slice the first 3 characters from the string \"Python Programming\"\n",
        "program=\"Python Programming\"\n",
        "print(program[0:3:1])"
      ],
      "metadata": {
        "colab": {
          "base_uri": "https://localhost:8080/",
          "height": 0
        },
        "id": "EIvzF3xpOyhV",
        "outputId": "9454625a-6791-4af9-beb7-471a2b79626e"
      },
      "execution_count": 4,
      "outputs": [
        {
          "output_type": "stream",
          "name": "stdout",
          "text": [
            "Pyt\n"
          ]
        }
      ]
    },
    {
      "cell_type": "code",
      "source": [
        "#4 Write a code to convert the string \"hello\" to uppercase\n",
        "greeting=\"hello\"\n",
        "print(greeting.upper())"
      ],
      "metadata": {
        "colab": {
          "base_uri": "https://localhost:8080/",
          "height": 0
        },
        "id": "kZI-x5mAPBZU",
        "outputId": "8c829cc6-53f6-47c1-cf69-9e3b3fedacd1"
      },
      "execution_count": 5,
      "outputs": [
        {
          "output_type": "stream",
          "name": "stdout",
          "text": [
            "HELLO\n"
          ]
        }
      ]
    },
    {
      "cell_type": "code",
      "source": [
        "#5 Write a code to replace the word \"apple\" with \"orange\" in the string \"I like apple\"\n",
        "sent=\"I like apple\"\n",
        "print(sent)\n",
        "print(sent.replace(\"apple\",\"orange\"))"
      ],
      "metadata": {
        "colab": {
          "base_uri": "https://localhost:8080/",
          "height": 0
        },
        "id": "pqWDZEF4PP9I",
        "outputId": "13904f6d-061c-4b75-c297-971d9fc7aefc"
      },
      "execution_count": 7,
      "outputs": [
        {
          "output_type": "stream",
          "name": "stdout",
          "text": [
            "I like apple\n",
            "I like orange\n"
          ]
        }
      ]
    },
    {
      "cell_type": "code",
      "source": [
        "#6 Write a code to create a list with numbers 1 to 5 and print it\n",
        "list=[num for num in range(1,6)]\n",
        "print(list)"
      ],
      "metadata": {
        "colab": {
          "base_uri": "https://localhost:8080/",
          "height": 0
        },
        "id": "0jrXG_-HPcmm",
        "outputId": "f2533e01-0de7-4516-bceb-a138876a8cce"
      },
      "execution_count": 8,
      "outputs": [
        {
          "output_type": "stream",
          "name": "stdout",
          "text": [
            "[1, 2, 3, 4, 5]\n"
          ]
        }
      ]
    },
    {
      "cell_type": "code",
      "source": [
        "#7 Write a code to append the number 10 to the list [1, 2, 3, 4]\n",
        "lst=[1,2,3,4]\n",
        "lst.append(10)\n",
        "print(lst)"
      ],
      "metadata": {
        "colab": {
          "base_uri": "https://localhost:8080/",
          "height": 0
        },
        "id": "xhmOoDOGPtAl",
        "outputId": "3bc59254-f0b8-4519-e359-267eb1ec990d"
      },
      "execution_count": 9,
      "outputs": [
        {
          "output_type": "stream",
          "name": "stdout",
          "text": [
            "[1, 2, 3, 4, 10]\n"
          ]
        }
      ]
    },
    {
      "cell_type": "code",
      "source": [
        "#8 Write a code to remove the number 3 from the list [1, 2, 3, 4, 5]\n",
        "lst=[1,2,3,4,5]\n",
        "print(lst)\n",
        "\n",
        "lst.remove(3)\n",
        "print(lst)"
      ],
      "metadata": {
        "colab": {
          "base_uri": "https://localhost:8080/",
          "height": 0
        },
        "id": "R05tfILLQqI-",
        "outputId": "d9942eda-2d96-4311-944f-bb3336a7ed0e"
      },
      "execution_count": 17,
      "outputs": [
        {
          "output_type": "stream",
          "name": "stdout",
          "text": [
            "[1, 2, 3, 4, 5]\n",
            "[1, 2, 4, 5]\n"
          ]
        }
      ]
    },
    {
      "cell_type": "code",
      "source": [
        "#9 Write a code to access the second element in the list ['a', 'b', 'c', 'd']\n",
        "lst=['a','b','c','d']\n",
        "print(\"The second element is \",lst[1])"
      ],
      "metadata": {
        "colab": {
          "base_uri": "https://localhost:8080/",
          "height": 0
        },
        "id": "gq_k7VeURQl5",
        "outputId": "73a4764b-def3-467b-faa5-29338345a454"
      },
      "execution_count": 19,
      "outputs": [
        {
          "output_type": "stream",
          "name": "stdout",
          "text": [
            "The second element is  b\n"
          ]
        }
      ]
    },
    {
      "cell_type": "code",
      "source": [
        "#10 Write a code to reverse the list [10, 20, 30, 40, 50].\n",
        "lst=[10,20,30,40,50]\n",
        "print(lst)\n",
        "print(lst[::-1])"
      ],
      "metadata": {
        "colab": {
          "base_uri": "https://localhost:8080/",
          "height": 0
        },
        "id": "SavjiZHlR3Sf",
        "outputId": "cc4cb42b-56e1-4744-d31c-78474d3ef3cb"
      },
      "execution_count": 20,
      "outputs": [
        {
          "output_type": "stream",
          "name": "stdout",
          "text": [
            "[10, 20, 30, 40, 50]\n",
            "[50, 40, 30, 20, 10]\n"
          ]
        }
      ]
    },
    {
      "cell_type": "code",
      "source": [
        "#11 Write a code to create a tuple with the elements 10, 20, 30 and print it.\n",
        "tup=(10,20,30)\n",
        "print(tup)"
      ],
      "metadata": {
        "colab": {
          "base_uri": "https://localhost:8080/",
          "height": 0
        },
        "id": "5OuMYs-rSCIm",
        "outputId": "5a50f65f-fcf2-404b-a53e-ab0454613e33"
      },
      "execution_count": 21,
      "outputs": [
        {
          "output_type": "stream",
          "name": "stdout",
          "text": [
            "(10, 20, 30)\n"
          ]
        }
      ]
    },
    {
      "cell_type": "code",
      "source": [
        "#12 Write a code to access the first element of the tuple ('apple', 'banana', 'cherry').\n",
        "tup=('apple','banana','cherry')\n",
        "print(tup[0])"
      ],
      "metadata": {
        "colab": {
          "base_uri": "https://localhost:8080/",
          "height": 0
        },
        "id": "4HkO04rFSYoe",
        "outputId": "ed39a056-79bc-4de6-8f03-fdeefc1f1897"
      },
      "execution_count": 22,
      "outputs": [
        {
          "output_type": "stream",
          "name": "stdout",
          "text": [
            "apple\n"
          ]
        }
      ]
    },
    {
      "cell_type": "code",
      "source": [
        "#13 Write a code to count how many times the number 2 appears in the tuple (1, 2, 3, 2, 4, 2).\n",
        "tup=(1,2,3,2,4,2)\n",
        "print(tup.count(2))"
      ],
      "metadata": {
        "colab": {
          "base_uri": "https://localhost:8080/",
          "height": 0
        },
        "id": "WjtyPvehSeZN",
        "outputId": "3c3bd461-939b-454e-dea1-4f2ab220ef21"
      },
      "execution_count": 23,
      "outputs": [
        {
          "output_type": "stream",
          "name": "stdout",
          "text": [
            "3\n"
          ]
        }
      ]
    },
    {
      "cell_type": "code",
      "source": [
        "#14 Write a code to find the index of the element \"cat\" in the tuple ('dog', 'cat', 'rabbit').\n",
        "tup=(\"dog\",\"cat\",\"rabbit\")\n",
        "print(tup.index(\"cat\"))"
      ],
      "metadata": {
        "colab": {
          "base_uri": "https://localhost:8080/",
          "height": 0
        },
        "id": "xZTMNNwaSjS-",
        "outputId": "4f60d0ee-0ee8-48cc-9f02-adf6c818bfde"
      },
      "execution_count": 24,
      "outputs": [
        {
          "output_type": "stream",
          "name": "stdout",
          "text": [
            "1\n"
          ]
        }
      ]
    },
    {
      "cell_type": "code",
      "source": [
        "#15 Write a code to check if the element \"banana\" is in the tuple ('apple', 'orange', 'banana')\n",
        "tup=(\"apple\",\"orange\",\"banana\")\n",
        "print(\"banana\" in tup)"
      ],
      "metadata": {
        "colab": {
          "base_uri": "https://localhost:8080/",
          "height": 0
        },
        "id": "bHctW8pbSwbU",
        "outputId": "8a931a07-9323-4b14-b94e-275ee4eb0355"
      },
      "execution_count": 25,
      "outputs": [
        {
          "output_type": "stream",
          "name": "stdout",
          "text": [
            "True\n"
          ]
        }
      ]
    },
    {
      "cell_type": "code",
      "source": [
        "#16 Write a code to create a set with the elements 1, 2, 3, 4, 5 and print it.\n",
        "st={1,2,3,4,5}\n",
        "print(st)"
      ],
      "metadata": {
        "colab": {
          "base_uri": "https://localhost:8080/",
          "height": 0
        },
        "id": "X3oixN29S28Y",
        "outputId": "7c498f87-5bbd-4810-801c-cc129754ddd6"
      },
      "execution_count": 26,
      "outputs": [
        {
          "output_type": "stream",
          "name": "stdout",
          "text": [
            "{1, 2, 3, 4, 5}\n"
          ]
        }
      ]
    },
    {
      "cell_type": "code",
      "source": [
        "#17  Write a code to add the element 6 to the set {1, 2, 3, 4}.\n",
        "st={1,2,3,4}\n",
        "print(st)\n",
        "st.add(6)\n",
        "print(st)"
      ],
      "metadata": {
        "colab": {
          "base_uri": "https://localhost:8080/",
          "height": 0
        },
        "id": "HQI4kIMSS-gY",
        "outputId": "7f546872-584d-40cd-db1a-1b308b9feb64"
      },
      "execution_count": 28,
      "outputs": [
        {
          "output_type": "stream",
          "name": "stdout",
          "text": [
            "{1, 2, 3, 4}\n",
            "{1, 2, 3, 4, 6}\n"
          ]
        }
      ]
    },
    {
      "cell_type": "code",
      "source": [
        "#18  Write a code to create a tuple with the elements 10, 20, 30 and print it.\n",
        "tp=(10,20,30)\n",
        "print(tp)"
      ],
      "metadata": {
        "colab": {
          "base_uri": "https://localhost:8080/",
          "height": 0
        },
        "id": "Oa8LQVSdTHMu",
        "outputId": "88d73e1e-0979-4224-87ef-3d994cd59216"
      },
      "execution_count": 29,
      "outputs": [
        {
          "output_type": "stream",
          "name": "stdout",
          "text": [
            "(10, 20, 30)\n"
          ]
        }
      ]
    },
    {
      "cell_type": "code",
      "source": [
        "#19  Write a code to access the first element of the tuple ('apple', 'banana', 'cherry').\n",
        "tp=(\"apple\",\"banana\",\"cherry\")\n",
        "print(tp[0])"
      ],
      "metadata": {
        "colab": {
          "base_uri": "https://localhost:8080/",
          "height": 0
        },
        "id": "PAAlBEVHTOwn",
        "outputId": "3c6a4801-9fce-4ceb-d005-53355224d96b"
      },
      "execution_count": 30,
      "outputs": [
        {
          "output_type": "stream",
          "name": "stdout",
          "text": [
            "apple\n"
          ]
        }
      ]
    },
    {
      "cell_type": "code",
      "source": [
        "#20  Write a code to count how many times the number 2 appears in the tuple (1, 2, 3, 2, 4, 2)\n",
        "tp=(1,2,3,2,4,2)\n",
        "print(tp.count(2))"
      ],
      "metadata": {
        "colab": {
          "base_uri": "https://localhost:8080/",
          "height": 0
        },
        "id": "rrAjufmCTZgW",
        "outputId": "f514b65c-d544-4707-d67b-b37bef75a904"
      },
      "execution_count": 31,
      "outputs": [
        {
          "output_type": "stream",
          "name": "stdout",
          "text": [
            "3\n"
          ]
        }
      ]
    },
    {
      "cell_type": "code",
      "source": [
        "#21  Write a code to find the index of the element \"cat\" in the tuple ('dog', 'cat', 'rabbit').\n",
        "tp=(\"dog\",\"cat\",\"rabbit\")\n",
        "print(tp.index(\"cat\"))"
      ],
      "metadata": {
        "colab": {
          "base_uri": "https://localhost:8080/",
          "height": 0
        },
        "id": "qk7JIhYwTkhp",
        "outputId": "3ae9c796-0aa6-43c9-f1f3-6349416f8b12"
      },
      "execution_count": 32,
      "outputs": [
        {
          "output_type": "stream",
          "name": "stdout",
          "text": [
            "1\n"
          ]
        }
      ]
    },
    {
      "cell_type": "code",
      "source": [
        "#22  Write a code to check if the element \"banana\" is in the tuple ('apple', 'orange', 'banana').\n",
        "tp=(\"apple\",\"orange\",\"banana\")\n",
        "print(\"banana\" in tp)"
      ],
      "metadata": {
        "colab": {
          "base_uri": "https://localhost:8080/",
          "height": 0
        },
        "id": "oH9BXuiCTugQ",
        "outputId": "0501b3fc-5936-4c9e-ecd2-2c2e357d6a64"
      },
      "execution_count": 33,
      "outputs": [
        {
          "output_type": "stream",
          "name": "stdout",
          "text": [
            "True\n"
          ]
        }
      ]
    },
    {
      "cell_type": "code",
      "source": [
        "#23 Write a code to create a set with the elements 1, 2, 3, 4, 5 and print it.\n",
        "st={1,2,3,4,5}\n",
        "print(st)"
      ],
      "metadata": {
        "colab": {
          "base_uri": "https://localhost:8080/",
          "height": 0
        },
        "id": "QuVRLW9gT2_6",
        "outputId": "5e3962e8-d886-44cf-f7b7-6626dcad5e93"
      },
      "execution_count": 34,
      "outputs": [
        {
          "output_type": "stream",
          "name": "stdout",
          "text": [
            "{1, 2, 3, 4, 5}\n"
          ]
        }
      ]
    },
    {
      "cell_type": "code",
      "source": [
        "#24 Write a code to add the element 6 to the set {1, 2, 3, 4}\n",
        "st={1,2,3,4}\n",
        "print(st)\n",
        "st.add(6)\n",
        "print(st)"
      ],
      "metadata": {
        "colab": {
          "base_uri": "https://localhost:8080/",
          "height": 0
        },
        "id": "9QffGrzIT-jO",
        "outputId": "e45e89c6-7972-4ede-d496-f3352ec943bb"
      },
      "execution_count": 35,
      "outputs": [
        {
          "output_type": "stream",
          "name": "stdout",
          "text": [
            "{1, 2, 3, 4}\n",
            "{1, 2, 3, 4, 6}\n"
          ]
        }
      ]
    },
    {
      "cell_type": "code",
      "source": [],
      "metadata": {
        "id": "zDgILbvAUE4I"
      },
      "execution_count": null,
      "outputs": []
    }
  ]
}