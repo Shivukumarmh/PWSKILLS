{
  "nbformat": 4,
  "nbformat_minor": 0,
  "metadata": {
    "colab": {
      "provenance": []
    },
    "kernelspec": {
      "name": "python3",
      "display_name": "Python 3"
    },
    "language_info": {
      "name": "python"
    }
  },
  "cells": [
    {
      "cell_type": "markdown",
      "source": [
        "#**Ensemble Learning**\n",
        "##Assignment Questions\n",
        "\n",
        "\n",
        "\n",
        "##Theoretical\n",
        "\n",
        "1. Can we use Bagging for regression problems?\n",
        "  - Yes (VotingRegressor)\n",
        "\n",
        "2. What is the difference between multiple model training and single model training?\n",
        "  - Multiple model training : Here multiple models are trained could be of same algorithm or of different algorithm.\n",
        "  - Single model training : Here only the single model is been trained.\n",
        "\n",
        "3. Explain the concept of feature randomness in Random Forest.\n",
        "  - So in feature randomness , it selects the random features of the dataset for each model with the replacement.\n",
        "\n",
        "4. What is OOB (Out-of-Bag) Score?\n",
        "  - The Out-of-Bag (OOB) score is a technique used in ensemble learning, to assess the performance of the model without the need for a separate validation or test set.\n",
        "  - It basically calculates the preformance of the model while training before going to testing.\n",
        "\n",
        "5. How can you measure the importance of features in a Random Forest model?\n",
        "  - Using  \"feature_importances_\"\n",
        "\n",
        "6. Explain the working principle of a Bagging Classifier\n",
        "  - It works on the parallel ensamble techinique.\n",
        "  - It combines the predictions of multiple base models  to produce a more accurate and robust final prediction.\n",
        "\n",
        "7. How do you evaluate a Bagging Classifier’s performance?\n",
        "  - Using accuracy , confusion metrix\n",
        "\n",
        "8. How does a Bagging Regressor work?\n",
        "  - A Bagging Regressor is an ensemble learning technique used to improve the performance of regression models by combining the predictions of multiple base models.\n",
        "\n",
        "9. What is the main advantage of ensemble techniques?\n",
        "  - To reduce the overfitting of models.\n",
        "  - To make the models more stable.\n",
        "  - To increase the accuracy.\n",
        "\n",
        "10. What is the main challenge of ensemble methods?\n",
        "  - More time complexity\n",
        "  - More space complexity\n",
        "  - Overfitting\n",
        "  - Interpretability\n",
        "\n",
        "11. Explain the key idea behind ensemble techniques.\n",
        "  - To combine the predictions of various weak model to give the final prediction.\n",
        "\n",
        "12. What is a Random Forest Classifier\n",
        "  -  It is used for classification tasks and is based on the idea of constructing a collection of decision trees during training and outputting the class that is the mode of the classes predicted by individual trees.\n",
        "\n",
        "13. What are the main types of ensemble techniques?\n",
        "  - Parallel techniques\n",
        "  - Sequential techniques\n",
        "  - Parallel + Sequential techniques\n",
        "\n",
        "14. What is ensemble learning in machine learning?\n",
        "   - It is to combining the predictions of various weak models to arrive at the best output.\n",
        "   - To leverage the diversity of multiple models to make more accurate predictions than any individual model alone.\n",
        "\n",
        "15. When should we avoid using ensemble methods?\n",
        "  - When Model Interpretability is Crucial\n",
        "  - When Computational Resources Are Limited\n",
        "  - When You Have Limited Data\n",
        "  - When we need the simple model\n",
        "\n",
        "16. How does Bagging help in reducing overfitting?\n",
        "  - Bagging works by training multiple base learners  on different random subsets of the training data. These base learners are independent of each other, and their predictions are combined to form the final result .\n",
        "\n",
        "17. Why is Random Forest better than a single Decision Tree?\n",
        "  - Because it gives the answer by majority of the various models.\n",
        "\n",
        "18. What is the role of bootstrap sampling in Bagging?\n",
        "  - The role of bootstrap sampling in Bagging (Bootstrap Aggregating) is crucial to its ability to reduce variance and improve the overall performance of the ensemble model.\n",
        "\n",
        "19. What are some real-world applications of ensemble techniques?\n",
        "  - Healthcare & Medical Diagnosis\n",
        "  - Finance & Risk Management\n",
        "  - Image & Speech Recognition\n",
        "\n",
        "20. What is the difference between Bagging and Boosting?\n",
        "  - Bagging : It is the parallel ensemble technique.\n",
        "  - Boosting : It is the sequential ensemble technique."
      ],
      "metadata": {
        "id": "DJ6ypFjWXTiQ"
      }
    },
    {
      "cell_type": "markdown",
      "source": [
        "##Practical"
      ],
      "metadata": {
        "id": "XmoS-XF4cLRJ"
      }
    },
    {
      "cell_type": "code",
      "source": [
        "#21. Train a Bagging Classifier using Decision Trees on a sample dataset and print model accuracy2\n",
        "from sklearn.datasets import make_classification\n",
        "from sklearn.model_selection import train_test_split\n",
        "from sklearn.ensemble import BaggingClassifier\n",
        "from sklearn.tree import DecisionTreeClassifier\n",
        "from sklearn.metrics import accuracy_score\n",
        "\n",
        "\n",
        "X, Y = make_classification(n_samples=1000, n_features=10, n_classes=2, n_informative=3)\n",
        "X_train, X_test, Y_train, Y_test = train_test_split(X, Y, test_size=0.2, random_state=1)\n",
        "\n",
        "model = BaggingClassifier(estimator=DecisionTreeClassifier(), n_estimators=10, random_state=1)\n",
        "\n",
        "\n",
        "model.fit(X_train, Y_train)\n",
        "Y_pred = model.predict(X_test)\n",
        "\n",
        "\n",
        "accuracy = accuracy_score(Y_test, Y_pred)\n",
        "print(f\"Model Accuracy: {accuracy:.4f}\")\n",
        "\n",
        "\n"
      ],
      "metadata": {
        "colab": {
          "base_uri": "https://localhost:8080/"
        },
        "id": "3MoWGvbIcQTT",
        "outputId": "e6c0f608-d11e-4c9a-c95e-676a55f1e2cd"
      },
      "execution_count": 5,
      "outputs": [
        {
          "output_type": "stream",
          "name": "stdout",
          "text": [
            "Model Accuracy: 0.8850\n"
          ]
        }
      ]
    },
    {
      "cell_type": "code",
      "source": [
        "#22. Train a Bagging Regressor using Decision Trees and evaluate using Mean Squared Error (MSE)\n",
        "from sklearn.datasets import make_regression\n",
        "from sklearn.model_selection import train_test_split\n",
        "from sklearn.ensemble import BaggingRegressor\n",
        "from sklearn.tree import DecisionTreeRegressor\n",
        "from sklearn.metrics import mean_squared_error\n",
        "\n",
        "X, Y = make_regression(n_samples=1000, n_features=10, n_informative=3)\n",
        "X_train, X_test, Y_train, Y_test = train_test_split(X, Y, test_size=0.2, random_state=1)\n",
        "\n",
        "\n",
        "model = BaggingRegressor(estimator=DecisionTreeRegressor(), n_estimators=10, random_state=1)\n",
        "model.fit(X_train, Y_train)\n",
        "\n",
        "Y_pred = model.predict(X_test)\n",
        "\n",
        "mse = mean_squared_error(Y_test, Y_pred)\n",
        "print(\"Mean Squared Error is\", mse)\n"
      ],
      "metadata": {
        "colab": {
          "base_uri": "https://localhost:8080/"
        },
        "id": "OABlLIbEnuf9",
        "outputId": "5bbcb7e5-f044-4dc7-bb03-cf7727f2a463"
      },
      "execution_count": 9,
      "outputs": [
        {
          "output_type": "stream",
          "name": "stdout",
          "text": [
            "Mean Squared Error is 459.1721049852483\n"
          ]
        }
      ]
    },
    {
      "cell_type": "code",
      "source": [
        "#23. Train a Random Forest Classifier on the Breast Cancer dataset and print feature importance scores2\n",
        "from sklearn.datasets import load_breast_cancer\n",
        "from sklearn.model_selection import train_test_split\n",
        "from sklearn.ensemble import RandomForestClassifier\n",
        "\n",
        "df=load_breast_cancer()\n",
        "X_train, X_test, Y_train, Y_test = train_test_split(df.data, df.target, test_size=0.2, random_state=1)\n",
        "\n",
        "model = RandomForestClassifier(n_estimators=100, random_state=1)\n",
        "model.fit(X_train, Y_train)\n",
        "\n",
        "feature_importance = model.feature_importances_\n",
        "print(feature_importance)"
      ],
      "metadata": {
        "colab": {
          "base_uri": "https://localhost:8080/"
        },
        "id": "UOyaHcP5otHy",
        "outputId": "624795ff-5a2b-47d7-b7d8-c6450288223e"
      },
      "execution_count": 11,
      "outputs": [
        {
          "output_type": "stream",
          "name": "stdout",
          "text": [
            "[0.06811959 0.01895654 0.06651358 0.04562212 0.00559711 0.0050085\n",
            " 0.05854792 0.09173071 0.00249771 0.00226877 0.02215035 0.0035935\n",
            " 0.00779888 0.0288948  0.00429829 0.00313988 0.00286557 0.00498554\n",
            " 0.00458959 0.00526312 0.08431373 0.01757519 0.13077297 0.11767767\n",
            " 0.00914248 0.01092473 0.03087749 0.13030665 0.00923893 0.00672809]\n"
          ]
        }
      ]
    },
    {
      "cell_type": "code",
      "source": [
        "#24.  Train a Random Forest Regressor and compare its performance with a single Decision Tree\n",
        "from sklearn.datasets import make_regression\n",
        "from sklearn.model_selection import train_test_split\n",
        "from sklearn.ensemble import RandomForestRegressor\n",
        "from sklearn.tree import DecisionTreeRegressor\n",
        "from sklearn.metrics import mean_squared_error\n",
        "\n",
        "X, Y = make_regression(n_samples=1000, n_features=10, n_informative=3)\n",
        "X_train, X_test, Y_train, Y_test = train_test_split(X, Y, test_size=0.2, random_state=1)\n",
        "\n",
        "dt=DecisionTreeRegressor()\n",
        "dt.fit(X_train, Y_train)\n",
        "Y_pred = dt.predict(X_test)\n",
        "mse = mean_squared_error(Y_test, Y_pred)\n",
        "print(\"Mean Squared Error is\", mse)\n",
        "\n",
        "rf = RandomForestRegressor(n_estimators=100, random_state=1)\n",
        "rf.fit(X_train, Y_train)\n",
        "Y_pred = rf.predict(X_test)\n",
        "mse = mean_squared_error(Y_test, Y_pred)\n",
        "print(\"Mean Squared Error is\", mse)\n"
      ],
      "metadata": {
        "colab": {
          "base_uri": "https://localhost:8080/"
        },
        "id": "b8PqeXLFpMmo",
        "outputId": "8f1b5260-e2c9-4163-dfc7-993a0ddd951a"
      },
      "execution_count": 12,
      "outputs": [
        {
          "output_type": "stream",
          "name": "stdout",
          "text": [
            "Mean Squared Error is 1288.0720353095153\n",
            "Mean Squared Error is 427.3132147826008\n"
          ]
        }
      ]
    },
    {
      "cell_type": "code",
      "source": [
        "#25. Compute the Out-of-Bag (OOB) Score for a Random Forest Classifier\n",
        "\n",
        "from sklearn.datasets import make_classification\n",
        "from sklearn.model_selection import train_test_split\n",
        "from sklearn.ensemble import RandomForestClassifier\n",
        "\n",
        "X, Y = make_classification(n_samples=1000, n_features=10, n_classes=2, n_informative=3)\n",
        "X_train, X_test, Y_train, Y_test = train_test_split(X,Y,test_size=0.3,random_state=1)\n",
        "\n",
        "model = RandomForestClassifier(oob_score=True)\n",
        "model.fit(X_train,Y_train)\n",
        "\n",
        "oob_score = model.oob_score_\n",
        "print(\"OOB Score is\", oob_score)\n",
        "\n",
        "\n",
        "\n",
        "\n"
      ],
      "metadata": {
        "colab": {
          "base_uri": "https://localhost:8080/"
        },
        "id": "nFyvxnWCpsZs",
        "outputId": "f961c01e-c7be-48fc-e6ff-be73c21968ce"
      },
      "execution_count": 14,
      "outputs": [
        {
          "output_type": "stream",
          "name": "stdout",
          "text": [
            "OOB Score is 0.9014285714285715\n"
          ]
        }
      ]
    },
    {
      "cell_type": "code",
      "source": [
        "#26. Train a Bagging Classifier using SVM as a base estimator and print accuracy2\n",
        "from sklearn.svm import SVC\n",
        "from sklearn.ensemble import BaggingClassifier\n",
        "from sklearn.datasets import make_classification\n",
        "from sklearn.model_selection import train_test_split\n",
        "from sklearn.metrics import accuracy_score\n",
        "\n",
        "\n",
        "X, y = make_classification(n_samples=1000, n_features=10, n_classes=2, n_informative=3)\n",
        "X_train, X_test, y_train, y_test = train_test_split(X, y, test_size=0.2, random_state=42)\n",
        "\n",
        "\n",
        "model = SVC()\n",
        "bag_clf = BaggingClassifier(estimator=model, n_estimators=100,bootstrap=True, random_state=42)\n",
        "\n",
        "bag_clf.fit(X_train, y_train)\n",
        "y_pred = bag_clf.predict(X_test)\n",
        "\n",
        "\n",
        "print(\"Accuracy:\", accuracy_score(y_test, y_pred))\n"
      ],
      "metadata": {
        "colab": {
          "base_uri": "https://localhost:8080/"
        },
        "id": "sT4AXXUbqC00",
        "outputId": "64c8e0a3-e48f-429e-94a3-8392a1c5f418"
      },
      "execution_count": 19,
      "outputs": [
        {
          "output_type": "stream",
          "name": "stdout",
          "text": [
            "Accuracy: 0.93\n"
          ]
        }
      ]
    },
    {
      "cell_type": "code",
      "source": [
        "#27. Train a Random Forest Classifier with different numbers of trees and compare accuracy\n",
        "\n",
        "from sklearn.datasets import make_classification\n",
        "from sklearn.model_selection import train_test_split\n",
        "from sklearn.ensemble import RandomForestClassifier\n",
        "from sklearn.metrics import accuracy_score\n",
        "\n",
        "X,Y=make_classification(n_samples=1000,n_features=10,n_classes=2,n_informative=3)\n",
        "X_train,X_test,Y_train,Y_test=train_test_split(X,Y,test_size=0.2,random_state=1)\n",
        "\n",
        "model=RandomForestClassifier(n_estimators=20,random_state=1)\n",
        "model.fit(X_train,Y_train)\n",
        "Y_pred=model.predict(X_test)\n",
        "print(\"Accuracy is\",accuracy_score(Y_test,Y_pred))\n",
        "\n",
        "\n"
      ],
      "metadata": {
        "colab": {
          "base_uri": "https://localhost:8080/"
        },
        "id": "hyghrbnSqT-H",
        "outputId": "1c242e92-a113-4181-ec17-290506435399"
      },
      "execution_count": 20,
      "outputs": [
        {
          "output_type": "stream",
          "name": "stdout",
          "text": [
            "Accuracy is 0.91\n"
          ]
        }
      ]
    },
    {
      "cell_type": "code",
      "source": [
        "#28. Train a Bagging Classifier using Logistic Regression as a base estimator and print AUC score\n",
        "\n",
        "from sklearn.linear_model import LogisticRegression\n",
        "from sklearn.ensemble import BaggingClassifier\n",
        "from sklearn.datasets import make_classification\n",
        "from sklearn.model_selection import train_test_split\n",
        "from sklearn.metrics import roc_auc_score\n",
        "\n",
        "X,Y=make_classification(n_classes=2,n_samples=1000,n_features=10,n_informative=3)\n",
        "X_train,X_test,Y_train,Y_test=train_test_split(X,Y,test_size=0.30,random_state=1)\n",
        "\n",
        "model=LogisticRegression()\n",
        "bag_clf=BaggingClassifier(estimator=model,n_estimators=100,bootstrap=True,random_state=1)\n",
        "\n",
        "bag_clf.fit(X_train,Y_train)\n",
        "\n",
        "Y_pred=bag_clf.predict(X_test)\n",
        "print(roc_auc_score(Y_test,Y_pred))\n",
        ""
      ],
      "metadata": {
        "colab": {
          "base_uri": "https://localhost:8080/"
        },
        "id": "94lR5tOwrHNX",
        "outputId": "b53cfd81-f143-4556-c6d2-7477ac9cabc0"
      },
      "execution_count": 21,
      "outputs": [
        {
          "output_type": "stream",
          "name": "stdout",
          "text": [
            "0.49333333333333335\n"
          ]
        }
      ]
    },
    {
      "cell_type": "code",
      "source": [
        "#29. Train a Random Forest Regressor and analyze feature importance scores\n",
        "\n",
        "from sklearn.datasets import make_regression\n",
        "from sklearn.model_selection import train_test_split\n",
        "from sklearn.ensemble import RandomForestRegressor\n",
        "\n",
        "X,Y=make_regression(n_samples=1000,n_features=10,n_informative=3)\n",
        "X_train,X_test,Y_train,Y_test=train_test_split(X,Y,test_size=0.30,random_state=1)\n",
        "\n",
        "model=RandomForestRegressor(n_estimators=100,random_state=1)\n",
        "model.fit(X_train,Y_train)\n",
        "\n",
        "feature_importance=model.feature_importances_\n",
        "print(feature_importance)\n"
      ],
      "metadata": {
        "colab": {
          "base_uri": "https://localhost:8080/"
        },
        "id": "IufSAeT8rYXE",
        "outputId": "9b38f06a-5d1d-4b31-a84f-2021ae5c2624"
      },
      "execution_count": 22,
      "outputs": [
        {
          "output_type": "stream",
          "name": "stdout",
          "text": [
            "[0.31842091 0.00515865 0.47750956 0.0062983  0.0043804  0.16958632\n",
            " 0.00426773 0.00418382 0.0057306  0.0044637 ]\n"
          ]
        }
      ]
    },
    {
      "cell_type": "code",
      "source": [
        "#30. Train an ensemble model using both Bagging and Random Forest and compare accuracy.\n",
        "\n",
        "from sklearn.datasets import make_classification\n",
        "from sklearn.model_selection import train_test_split\n",
        "from sklearn.ensemble import BaggingClassifier, RandomForestClassifier\n",
        "from sklearn.metrics import accuracy_score\n",
        "\n",
        "X, Y = make_classification(n_samples=1000, n_features=10, n_classes=2, n_informative=3)\n",
        "X_train, X_test, Y_train, Y_test = train_test_split(X, Y, test_size=0.2, random_state=1)\n",
        "\n",
        "bag_clf = BaggingClassifier(n_estimators=100, random_state=1)\n",
        "bag_clf.fit(X_train, Y_train)\n",
        "Y_pred_bag = bag_clf.predict(X_test)\n",
        "\n",
        "rf_clf = RandomForestClassifier(n_estimators=100, random_state=1)\n",
        "rf_clf.fit(X_train, Y_train)\n",
        "Y_pred_rf = rf_clf.predict(X_test)\n",
        "\n",
        "print(\"Bagging Accuracy:\", accuracy_score(Y_test, Y_pred_bag))\n",
        "print(\"Random Forest Accuracy:\", accuracy_score(Y_test, Y_pred_rf))"
      ],
      "metadata": {
        "colab": {
          "base_uri": "https://localhost:8080/"
        },
        "id": "y3epoQZerrXL",
        "outputId": "c0f58412-8e9a-4d8b-9b48-b4e53eefd7f3"
      },
      "execution_count": 23,
      "outputs": [
        {
          "output_type": "stream",
          "name": "stdout",
          "text": [
            "Bagging Accuracy: 0.915\n",
            "Random Forest Accuracy: 0.915\n"
          ]
        }
      ]
    },
    {
      "cell_type": "code",
      "source": [
        "#31.  Train a Random Forest Classifier and tune hyperparameters using GridSearchCV\n",
        "\n",
        "from sklearn.ensemble import RandomForestClassifier\n",
        "from sklearn.datasets import make_classification\n",
        "from sklearn.model_selection import train_test_split, GridSearchCV\n",
        "from sklearn.metrics import accuracy_score\n",
        "\n",
        "X, y = make_classification(n_samples=1000, n_features=10, n_classes=2, n_informative=3)\n",
        "X_train, X_test, y_train, y_test = train_test_split(X, y, test_size=0.2, random_state=42)\n",
        "\n",
        "rf = RandomForestClassifier(random_state=42)\n",
        "param_grid = {\n",
        "    'n_estimators': [50, 100, 150],\n",
        "    'max_depth': [5, 10, 15],\n",
        "    'min_samples_split': [2, 5, 10],\n",
        "    'min_samples_leaf': [1, 2, 4]\n",
        "}\n",
        "\n",
        "grid_search = GridSearchCV(estimator=rf, param_grid=param_grid, cv=5, scoring='accuracy', n_jobs=-1)\n",
        "grid_search.fit(X_train, y_train)\n",
        "\n",
        "best_rf = grid_search.best_estimator_\n",
        "y_pred = best_rf.predict(X_test)\n",
        "\n",
        "print(\"Best Hyperparameters:\", grid_search.best_params_)\n",
        "print(\"Accuracy:\", accuracy_score(y_test, y_pred))\n",
        "\n",
        "\n",
        "\n",
        "\n",
        "\n"
      ],
      "metadata": {
        "colab": {
          "base_uri": "https://localhost:8080/"
        },
        "id": "pN4LBWldr2H2",
        "outputId": "345e7913-71fc-4883-86ba-c00a5b04df2e"
      },
      "execution_count": 24,
      "outputs": [
        {
          "output_type": "stream",
          "name": "stdout",
          "text": [
            "Best Hyperparameters: {'max_depth': 10, 'min_samples_leaf': 2, 'min_samples_split': 2, 'n_estimators': 100}\n",
            "Accuracy: 0.84\n"
          ]
        }
      ]
    },
    {
      "cell_type": "code",
      "source": [
        "#32.  Train a Bagging Regressor with different numbers of base estimators and compare performance.\n",
        "\n",
        "from sklearn.datasets import make_regression\n",
        "from sklearn.model_selection import train_test_split\n",
        "from sklearn.ensemble import BaggingRegressor\n",
        "from sklearn.tree import DecisionTreeRegressor\n",
        "from sklearn.metrics import mean_squared_error\n",
        "\n",
        "X, y = make_regression(n_samples=1000, n_features=10, n_informative=5, noise=0.1, random_state=42)\n",
        "X_train, X_test, y_train, y_test = train_test_split(X, y, test_size=0.2, random_state=42)\n",
        "\n",
        "estimators_list = [10, 50, 100, 150]\n",
        "for n in estimators_list:\n",
        "    model = BaggingRegressor(estimator=DecisionTreeRegressor(), n_estimators=n, random_state=42)\n",
        "    model.fit(X_train, y_train)\n",
        "    y_pred = model.predict(X_test)\n",
        "    mse = mean_squared_error(y_test, y_pred)\n",
        "    print(f\"n_estimators = {n}, MSE = {mse:.4f}\")\n",
        "\n",
        "\n"
      ],
      "metadata": {
        "colab": {
          "base_uri": "https://localhost:8080/"
        },
        "id": "49yzqNlrsvzW",
        "outputId": "8bba83cd-b0d4-4f72-ad66-5a1aeda633b0"
      },
      "execution_count": 25,
      "outputs": [
        {
          "output_type": "stream",
          "name": "stdout",
          "text": [
            "n_estimators = 10, MSE = 247.5151\n",
            "n_estimators = 50, MSE = 213.3602\n",
            "n_estimators = 100, MSE = 209.4471\n",
            "n_estimators = 150, MSE = 211.5226\n"
          ]
        }
      ]
    },
    {
      "cell_type": "code",
      "source": [
        "#33. Train a Random Forest Classifier and analyze misclassified samples\n",
        "\n",
        "from sklearn.ensemble import RandomForestClassifier\n",
        "from sklearn.datasets import load_iris\n",
        "from sklearn.model_selection import train_test_split\n",
        "from sklearn.metrics import classification_report\n",
        "\n",
        "iris = load_iris()\n",
        "X_train, X_test, y_train, y_test = train_test_split(iris.data, iris.target, test_size=0.2, random_state=1)\n",
        "\n",
        "clf=RandomForestClassifier()\n",
        "clf.fit(X_train,y_train)\n",
        "y_pred=clf.predict(X_test)\n",
        "\n",
        "print(classification_report(y_test,y_pred))"
      ],
      "metadata": {
        "colab": {
          "base_uri": "https://localhost:8080/"
        },
        "id": "XBTA6QZftPMZ",
        "outputId": "32dabb08-91a4-41ae-a204-d505db322e1a"
      },
      "execution_count": 26,
      "outputs": [
        {
          "output_type": "stream",
          "name": "stdout",
          "text": [
            "              precision    recall  f1-score   support\n",
            "\n",
            "           0       1.00      1.00      1.00        11\n",
            "           1       1.00      0.92      0.96        13\n",
            "           2       0.86      1.00      0.92         6\n",
            "\n",
            "    accuracy                           0.97        30\n",
            "   macro avg       0.95      0.97      0.96        30\n",
            "weighted avg       0.97      0.97      0.97        30\n",
            "\n"
          ]
        }
      ]
    },
    {
      "cell_type": "code",
      "source": [
        "#34. = Train a Bagging Classifier and compare its performance with a single Decision Tree Classifier.\n",
        "\n",
        "from sklearn.datasets import make_classification\n",
        "from sklearn.model_selection import train_test_split\n",
        "from sklearn.ensemble import BaggingClassifier\n",
        "from sklearn.tree import DecisionTreeClassifier\n",
        "from sklearn.metrics import accuracy_score\n",
        "\n",
        "X, Y = make_classification(n_samples=1000, n_features=10, n_classes=2, n_informative=3)\n",
        "X_train, X_test, Y_train, Y_test = train_test_split(X, Y, test_size=0.2, random_state=1)\n",
        "\n",
        "model = BaggingClassifier(estimator=DecisionTreeClassifier(), n_estimators=10, random_state=1)\n",
        "model.fit(X_train, Y_train)\n",
        "Y_pred = model.predict(X_test)\n",
        "\n",
        "accuracy = accuracy_score(Y_test, Y_pred)\n",
        "print(\"Bagging Classifier Accuracy:\", accuracy)\n",
        "\n",
        "\n",
        "model=DecisionTreeClassifier()\n",
        "model.fit(X_train,Y_train)\n",
        "Y_pred=model.predict(X_test)\n",
        "accuracy=accuracy_score(Y_test,Y_pred)\n",
        "print(\"Decision Tree Classifier Accuracy:\", accuracy)"
      ],
      "metadata": {
        "colab": {
          "base_uri": "https://localhost:8080/"
        },
        "id": "sU_RsTo8tjix",
        "outputId": "b9e37062-9526-4a15-8475-b851899d823c"
      },
      "execution_count": 27,
      "outputs": [
        {
          "output_type": "stream",
          "name": "stdout",
          "text": [
            "Bagging Classifier Accuracy: 0.88\n",
            "Decision Tree Classifier Accuracy: 0.85\n"
          ]
        }
      ]
    },
    {
      "cell_type": "code",
      "source": [
        "#35.  Train a Random Forest Classifier and visualize the confusion matrix\n",
        "\n",
        "from sklearn.ensemble import RandomForestClassifier\n",
        "from sklearn.datasets import make_classification\n",
        "from sklearn.model_selection import train_test_split\n",
        "from sklearn.metrics import confusion_matrix\n",
        "import matplotlib.pyplot as plt\n",
        "import seaborn as sns\n",
        "\n",
        "X,Y=make_classification(n_samples=1000,n_features=10,n_classes=2,n_informative=3)\n",
        "X_train,X_test,Y_train,Y_test=train_test_split(X,Y,test_size=0.2,random_state=1)\n",
        "\n",
        "model=RandomForestClassifier()\n",
        "model.fit(X_train,Y_train)\n",
        "Y_pred=model.predict(X_test)\n",
        "\n",
        "cm=confusion_matrix(Y_test,Y_pred)\n",
        "sns.heatmap(cm,annot=True,fmt='d')\n",
        "plt.show()"
      ],
      "metadata": {
        "colab": {
          "base_uri": "https://localhost:8080/",
          "height": 430
        },
        "id": "cqanW5hUuF_x",
        "outputId": "7810dd70-ebf6-4d20-f2af-6b3dd9397463"
      },
      "execution_count": 28,
      "outputs": [
        {
          "output_type": "display_data",
          "data": {
            "text/plain": [
              "<Figure size 640x480 with 2 Axes>"
            ],
            "image/png": "[encoded data removed]"
          },
          "metadata": {}
        }
      ]
    },
    {
      "cell_type": "code",
      "source": [
        "#36. Train a Stacking Classifier using Decision Trees, SVM, and Logistic Regression, and compare accuracy\n",
        "\n",
        "from sklearn.datasets import make_classification\n",
        "from sklearn.model_selection import train_test_split\n",
        "from sklearn.ensemble import StackingClassifier\n",
        "from sklearn.tree import DecisionTreeClassifier\n",
        "from sklearn.svm import SVC\n",
        "from sklearn.linear_model import LogisticRegression\n",
        "from sklearn.metrics import accuracy_score\n",
        "\n",
        "X, y = make_classification(n_samples=1000, n_features=10, n_informative=5, n_classes=2, random_state=42)\n",
        "X_train, X_test, y_train, y_test = train_test_split(X, y, test_size=0.2, random_state=42)\n",
        "\n",
        "estimators = [\n",
        "    ('dt', DecisionTreeClassifier(random_state=42)),\n",
        "    ('svm', SVC(probability=True, random_state=42))\n",
        "]\n",
        "\n",
        "stack_model = StackingClassifier(estimators=estimators, final_estimator=LogisticRegression(), cv=5)\n",
        "stack_model.fit(X_train, y_train)\n",
        "y_pred = stack_model.predict(X_test)\n",
        "print(\"Stacking Classifier Accuracy:\", accuracy_score(y_test, y_pred))\n",
        "\n"
      ],
      "metadata": {
        "colab": {
          "base_uri": "https://localhost:8080/"
        },
        "id": "Gws9EF15uX4J",
        "outputId": "61b6fe12-0576-42c1-a1a7-4d1ffc452117"
      },
      "execution_count": 29,
      "outputs": [
        {
          "output_type": "stream",
          "name": "stdout",
          "text": [
            "Stacking Classifier Accuracy: 0.935\n"
          ]
        }
      ]
    },
    {
      "cell_type": "code",
      "source": [
        "#37. Train a Random Forest Classifier and print the top 5 most important features=\n",
        "\n",
        "from sklearn.ensemble import RandomForestClassifier\n",
        "from sklearn.datasets import make_classification\n",
        "from sklearn.model_selection import train_test_split\n",
        "\n",
        "X,Y=make_classification(n_samples=1000,n_features=10,n_classes=2,n_informative=3)\n",
        "X_train,X_test,Y_train,Y_test=train_test_split(X,Y,test_size=0.2,random_state=1)\n",
        "\n",
        "model=RandomForestClassifier()\n",
        "model.fit(X_train,Y_train)\n",
        "\n",
        "feature_importances=model.feature_importances_\n",
        "sorted_indices=sorted(range(len(feature_importances)),key=lambda i:feature_importances[i],reverse=True)\n",
        "\n",
        "top_5_indices=sorted_indices[:5]\n",
        "top_5_features=[f\"Feature {i+1}\" for i in top_5_indices]\n",
        "print(top_5_features)"
      ],
      "metadata": {
        "colab": {
          "base_uri": "https://localhost:8080/"
        },
        "id": "fYY3LIwVuls7",
        "outputId": "b73a5a7e-1c15-4dc5-c02c-9fae0894d6f9"
      },
      "execution_count": 31,
      "outputs": [
        {
          "output_type": "stream",
          "name": "stdout",
          "text": [
            "['Feature 5', 'Feature 10', 'Feature 9', 'Feature 6', 'Feature 3']\n"
          ]
        }
      ]
    },
    {
      "cell_type": "code",
      "source": [
        "#38.  Train a Bagging Classifier and evaluate performance using Precision, Recall, and F1-score\n",
        "\n",
        "from sklearn.datasets import make_classification\n",
        "from sklearn.model_selection import train_test_split\n",
        "from sklearn.ensemble import BaggingClassifier\n",
        "from sklearn.tree import DecisionTreeClassifier\n",
        "from sklearn.metrics import accuracy_score,precision_score,recall_score,f1_score\n",
        "\n",
        "X, Y = make_classification(n_samples=1000, n_features=10, n_classes=2, n_informative=3)\n",
        "X_train, X_test, Y_train, Y_test = train_test_split(X, Y, test_size=0.2, random_state=1)\n",
        "\n",
        "model = BaggingClassifier(estimator=DecisionTreeClassifier(), n_estimators=10, random_state=1)\n",
        "model.fit(X_train, Y_train)\n",
        "Y_pred = model.predict(X_test)\n",
        "\n",
        "print(\"Accuracy\",accuracy_score(Y_test,Y_pred))\n",
        "print(\"Precision\",precision_score(Y_test,Y_pred))\n",
        "print(\"Recall\",recall_score(Y_test,Y_pred))\n",
        "print(\"F1 Score\",f1_score(Y_test,Y_pred))"
      ],
      "metadata": {
        "colab": {
          "base_uri": "https://localhost:8080/"
        },
        "id": "nflVNLhZuzD2",
        "outputId": "8dfc84b0-98f4-4a35-eac2-f6dbf9443c93"
      },
      "execution_count": 33,
      "outputs": [
        {
          "output_type": "stream",
          "name": "stdout",
          "text": [
            "Accuracy 0.935\n",
            "Precision 0.9174311926605505\n",
            "Recall 0.9615384615384616\n",
            "F1 Score 0.9389671361502347\n"
          ]
        }
      ]
    },
    {
      "cell_type": "code",
      "source": [
        "#39. Train a Random Forest Classifier and analyze the effect of max_depth on accuracy\n",
        "\n",
        "from sklearn.ensemble import RandomForestClassifier\n",
        "from sklearn.datasets import make_classification\n",
        "from sklearn.model_selection import train_test_split\n",
        "from sklearn.metrics import accuracy_score\n",
        "\n",
        "X, Y = make_classification(n_samples=1000, n_features=10, n_classes=2, n_informative=3)\n",
        "X_train, X_test, Y_train, Y_test = train_test_split(X, Y, test_size=0.2, random_state=1)\n",
        "\n",
        "max_depth_values = [5, 10, 15, 20]\n",
        "for max_depth in max_depth_values:\n",
        "    model = RandomForestClassifier(n_estimators=100, max_depth=max_depth, random_state=1)\n",
        "    model.fit(X_train, Y_train)\n",
        "    Y_pred = model.predict(X_test)\n",
        "    accuracy = accuracy_score(Y_test, Y_pred)\n",
        "    print(f\"Max Depth: {max_depth}, Accuracy: {accuracy:.4f}\")"
      ],
      "metadata": {
        "colab": {
          "base_uri": "https://localhost:8080/"
        },
        "id": "4_mI0Wi_vJsF",
        "outputId": "a063624f-8757-462c-b467-df293ba2a2cd"
      },
      "execution_count": 34,
      "outputs": [
        {
          "output_type": "stream",
          "name": "stdout",
          "text": [
            "Max Depth: 5, Accuracy: 0.9150\n",
            "Max Depth: 10, Accuracy: 0.9500\n",
            "Max Depth: 15, Accuracy: 0.9550\n",
            "Max Depth: 20, Accuracy: 0.9600\n"
          ]
        }
      ]
    },
    {
      "cell_type": "code",
      "source": [
        "#40.  Train a Bagging Regressor using different base estimators (DecisionTree and KNeighbors) and compare performance\n",
        "\n",
        "from sklearn.datasets import make_regression\n",
        "from sklearn.model_selection import train_test_split\n",
        "from sklearn.ensemble import BaggingRegressor\n",
        "from sklearn.tree import DecisionTreeRegressor\n",
        "from sklearn.neighbors import KNeighborsRegressor\n",
        "from sklearn.metrics import mean_squared_error\n",
        "\n",
        "X, Y = make_regression(n_samples=1000, n_features=10, n_informative=3)\n",
        "X_train, X_test, Y_train, Y_test = train_test_split(X, Y, test_size=0.2, random_state=1)\n",
        "\n",
        "base_estimators = [\n",
        "    ('dt', DecisionTreeRegressor(random_state=1)),\n",
        "    ('knn', KNeighborsRegressor())\n",
        "]\n",
        "\n",
        "for estimator_name, estimator in base_estimators:\n",
        "    model = BaggingRegressor(estimator=estimator, n_estimators=10, random_state=1)\n",
        "    model.fit(X_train, Y_train)\n",
        "    Y_pred = model.predict(X_test)\n",
        "    mse = mean_squared_error(Y_test, Y_pred)\n",
        "    print(model,mse)"
      ],
      "metadata": {
        "colab": {
          "base_uri": "https://localhost:8080/"
        },
        "id": "_PEHkCTkvZlB",
        "outputId": "abc71713-b5d4-4401-adfa-728d97c3875c"
      },
      "execution_count": 35,
      "outputs": [
        {
          "output_type": "stream",
          "name": "stdout",
          "text": [
            "BaggingRegressor(estimator=DecisionTreeRegressor(random_state=1),\n",
            "                 random_state=1) 236.69081747220204\n",
            "BaggingRegressor(estimator=KNeighborsRegressor(), random_state=1) 1865.0410470667503\n"
          ]
        }
      ]
    },
    {
      "cell_type": "code",
      "source": [
        "#41. Train a Random Forest Classifier and evaluate its performance using ROC-AUC Score\n",
        "\n",
        "from sklearn.ensemble import RandomForestClassifier\n",
        "from sklearn.datasets import make_classification\n",
        "from sklearn.model_selection import train_test_split\n",
        "from sklearn.metrics import roc_auc_score\n",
        "\n",
        "X,Y=make_classification(n_samples=1000,n_features=10,n_classes=2,n_informative=3)\n",
        "X_train,X_test,Y_train,Y_test=train_test_split(X,Y,test_size=0.2,random_state=1)\n",
        "\n",
        "model=RandomForestClassifier()\n",
        "model.fit(X_train,Y_train)\n",
        "Y_pred=model.predict(X_test)\n",
        "\n",
        "roc_auc=roc_auc_score(Y_test,Y_pred)\n",
        "print(roc_auc)"
      ],
      "metadata": {
        "colab": {
          "base_uri": "https://localhost:8080/"
        },
        "id": "bT6Oli9cvqP6",
        "outputId": "0987271c-4f86-4cb6-9fc8-0e5a224b1165"
      },
      "execution_count": 36,
      "outputs": [
        {
          "output_type": "stream",
          "name": "stdout",
          "text": [
            "0.965\n"
          ]
        }
      ]
    },
    {
      "cell_type": "code",
      "source": [
        "#42. Train a Bagging Classifier and evaluate its performance using cross-validatio.\n",
        "\n",
        "from sklearn.datasets import make_classification\n",
        "from sklearn.model_selection import train_test_split, cross_val_score\n",
        "from sklearn.ensemble import BaggingClassifier\n",
        "from sklearn.tree import DecisionTreeClassifier\n",
        "\n",
        "X, Y = make_classification(n_samples=1000, n_features=10, n_classes=2, n_informative=3)\n",
        "X_train, X_test, Y_train, Y_test = train_test_split(X, Y, test_size=0.2, random_state=1)\n",
        "\n",
        "model = BaggingClassifier(estimator=DecisionTreeClassifier(), n_estimators=10, random_state=1)\n",
        "scores = cross_val_score(model, X_train, Y_train, cv=5)\n",
        "print(scores)\n",
        "print(scores.mean())\n"
      ],
      "metadata": {
        "colab": {
          "base_uri": "https://localhost:8080/"
        },
        "id": "Xp4km2lLv1bp",
        "outputId": "bdb8577f-b969-4f5d-8e83-4cb33dc93a67"
      },
      "execution_count": 37,
      "outputs": [
        {
          "output_type": "stream",
          "name": "stdout",
          "text": [
            "[0.80625 0.8375  0.86875 0.85    0.83125]\n",
            "0.8387500000000001\n"
          ]
        }
      ]
    },
    {
      "cell_type": "code",
      "source": [
        "#43.  Train a Random Forest Classifier and plot the Precision-Recall curve\n",
        "\n",
        "from sklearn.ensemble import RandomForestClassifier\n",
        "from sklearn.datasets import make_classification\n",
        "from sklearn.model_selection import train_test_split\n",
        "from sklearn.metrics import precision_recall_curve\n",
        "import matplotlib.pyplot as plt\n",
        "\n",
        "X, Y = make_classification(n_samples=1000, n_features=10, n_classes=2, n_informative=3)\n",
        "X_train, X_test, Y_train, Y_test=train_test_split(X,Y,test_size=0.2,random_state=1)\n",
        "\n",
        "model=RandomForestClassifier()\n",
        "model.fit(X_train,Y_train)\n",
        "Y_pred=model.predict(X_test)\n",
        "\n",
        "precision,recall,_=precision_recall_curve(Y_test,Y_pred)\n",
        "plt.plot(recall,precision)\n",
        "plt.xlabel(\"Recall\")\n",
        "plt.ylabel(\"Precision\")\n",
        "plt.title(\"Precision-Recall Curve\")\n",
        "plt.show()\n"
      ],
      "metadata": {
        "colab": {
          "base_uri": "https://localhost:8080/",
          "height": 472
        },
        "id": "AWp21Gc2wEAI",
        "outputId": "209fba67-c9fa-43dc-af64-a51b7d547fe9"
      },
      "execution_count": 38,
      "outputs": [
        {
          "output_type": "display_data",
          "data": {
            "text/plain": [
              "<Figure size 640x480 with 1 Axes>"
            ],
            "image/png": "[encoded data removed]"
          },
          "metadata": {}
        }
      ]
    },
    {
      "cell_type": "code",
      "source": [
        "#44. Train a Stacking Classifier with Random Forest and Logistic Regression and compare accuracy\n",
        "\n",
        "from sklearn.model_selection import train_test_split\n",
        "from sklearn.ensemble import StackingClassifier\n",
        "from sklearn.ensemble import RandomForestClassifier\n",
        "from sklearn.linear_model import LogisticRegression\n",
        "from sklearn.datasets import make_classification\n",
        "from sklearn.metrics import accuracy_score\n",
        "\n",
        "X, y = make_classification(n_samples=1000, n_features=10, n_informative=5, n_classes=2, random_state=1)\n",
        "X_train, X_test, y_train, y_test = train_test_split(X, y, test_size=0.2, random_state=1)\n",
        "\n",
        "estimators = [\n",
        "    ('rf', RandomForestClassifier(n_estimators=100, random_state=1)),\n",
        "    ('lr', LogisticRegression(random_state=1))\n",
        "]\n",
        "\n",
        "stack_model = StackingClassifier(estimators=estimators, final_estimator=LogisticRegression())\n",
        "stack_model.fit(X_train, y_train)\n",
        "y_pred = stack_model.predict(X_test)\n",
        "print(\"Stacking Classifier Accuracy:\", accuracy_score(y_test, y_pred))\n"
      ],
      "metadata": {
        "colab": {
          "base_uri": "https://localhost:8080/"
        },
        "id": "IG91D9BiwW3U",
        "outputId": "9bdb4f6c-1b64-4c09-96d3-c78870641f1f"
      },
      "execution_count": 39,
      "outputs": [
        {
          "output_type": "stream",
          "name": "stdout",
          "text": [
            "Stacking Classifier Accuracy: 0.92\n"
          ]
        }
      ]
    },
    {
      "cell_type": "code",
      "source": [
        "#45. Train a Bagging Regressor with different levels of bootstrap samples and compare performance\n",
        "\n",
        "from sklearn.datasets import make_regression\n",
        "from sklearn.model_selection import train_test_split\n",
        "from sklearn.ensemble import BaggingRegressor\n",
        "from sklearn.tree import DecisionTreeRegressor\n",
        "from sklearn.metrics import mean_squared_error\n",
        "\n",
        "X,Y=make_regression(n_samples=1000,n_features=10,random_state=1)\n",
        "X_train,X_test,Y_train,Y_test=train_test_split(X,Y,test_size=0.2,random_state=1)\n",
        "\n",
        "bootstrap_samples=[0.1,0.2,0.3,0.4,0.5]\n",
        "for sample in bootstrap_samples:\n",
        "    model=BaggingRegressor(estimator=DecisionTreeRegressor(),n_estimators=10,bootstrap_features=True)\n",
        "    model.fit(X_train,Y_train)\n",
        "    Y_pred=model.predict(X_test)\n",
        "    mse=mean_squared_error(Y_test,Y_pred)\n",
        "    print(f\"Bootstrap Samples: {sample}, MSE: {mse}\")"
      ],
      "metadata": {
        "colab": {
          "base_uri": "https://localhost:8080/"
        },
        "id": "6qzlktlDwmF2",
        "outputId": "8beda0fc-3c3b-4856-b859-4840d03a8c70"
      },
      "execution_count": 41,
      "outputs": [
        {
          "output_type": "stream",
          "name": "stdout",
          "text": [
            "Bootstrap Samples: 0.1, MSE: 5619.994352817058\n",
            "Bootstrap Samples: 0.2, MSE: 5449.024769037371\n",
            "Bootstrap Samples: 0.3, MSE: 11947.857988574906\n",
            "Bootstrap Samples: 0.4, MSE: 8544.24800875386\n",
            "Bootstrap Samples: 0.5, MSE: 10459.742644411968\n"
          ]
        }
      ]
    },
    {
      "cell_type": "code",
      "source": [],
      "metadata": {
        "id": "TtdO4uyAw8LU"
      },
      "execution_count": null,
      "outputs": []
    }
  ]
}