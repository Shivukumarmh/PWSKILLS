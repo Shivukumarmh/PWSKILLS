{
  "nbformat": 4,
  "nbformat_minor": 0,
  "metadata": {
    "colab": {
      "provenance": []
    },
    "kernelspec": {
      "name": "python3",
      "display_name": "Python 3"
    },
    "language_info": {
      "name": "python"
    }
  },
  "cells": [
    {
      "cell_type": "code",
      "execution_count": null,
      "metadata": {
        "id": "UJ73P3JK-Dkl"
      },
      "outputs": [],
      "source": [
        "#"
      ]
    },
    {
      "cell_type": "markdown",
      "source": [
        "#Modeule 4 : Functions\n",
        "##Theory Questions:\n",
        "\n",
        "1.  What is the difference between a function and a method in Python?\n",
        "    - Function :Defined using the def keyword at the global scope or within another function.\n",
        "    - Method:Defined within a class and associated with a class or its objects.\n",
        "2.   Explain the concept of function arguments and parameters in Python.\n",
        "    - Function arguments and Parameters are fundamental concepts used when defining and calling functions.\n",
        "    - Parameters:Variables listed in a function's definition.\n",
        "    - Function arguments:Actual values or data passed to a function when it is called.\n",
        "3.  What are the different ways to define and call a function in Python?\n",
        "    - Defining a function:\n",
        "      - 1. Regular Function\n",
        "      - 2. Function with Default Parameters\n",
        "      - 3. Function with *args (Variable-Length Positional Arguments)\n",
        "      - 4. Function with **kwargs (Variable-Length Keyword Arguments)\n",
        "      - 5. Lambda Function (Anonymous Function)\n",
        "    - Calling a function:\n",
        "      - 1. Basic Call\n",
        "      - 2. Calling with Default Arguments\n",
        "      - 3. Calling with Positional Arguments\n",
        "      - 4. alling with Keyword Arguments\n",
        "      - 5. Calling with *args (Unpacking Positional Arguments)\n",
        "\n",
        "4.  What is the purpose of the `return` statement in a Python function?\n",
        "    - It returns the computed value and exits the code/function.\n",
        "    - It gives the output of the function.\n",
        "\n",
        "5.  What are iterators in Python and how do they differ from iterables?\n",
        "    -  An iterator is an object that allows traversal through a countable number of values.\n",
        "    - An iterable is anything the allows it member one at a time.\n",
        "\n",
        "6.  Explain the concept of generators in Python and how they are defined.\n",
        "    - Generators are a simple way to create iterators using functions\n",
        "    - The yield keyword is used instead of returning values.\n",
        "\n",
        "7. What are the advantages of using generators over regular functions?\n",
        "    - On-Demand Data: Generators produce values one at a time and only when required, avoiding the need to generate or store all values upfront.\n",
        "    - Memory Efficiency: Since values are generated as needed and not all at once, generators use minimal memory.\n",
        "\n",
        "8. What is a lambda function in Python and when is it typically used?\n",
        "    - It is the anonymous function which which handles single expression and returns a value.\n",
        "    - It is used to make the modle lightweight.\n",
        "\n",
        "9. Explain the purpose and usage of the `map()` function in Python.\n",
        "    - The map function applies a given function to all items in an input iterable (like a list) and returns an iterator with the results.\n",
        "\n",
        "10.  What is the difference between `map()`, `reduce()`, and `filter()` functions in Python?\n",
        "    - The map function applies a given function to all items in an input iterable (like a list) and returns an iterator with the results.\n",
        "    - The reduce function from the functools module applies a given function cumulatively to the items of a sequence, from left to right, to reduce the sequence to a single value.\n",
        "    - The filter function constructs an iterator from elements of an iterable for which a specified function returns True.\n",
        "\n",
        "11. Using pen & Paper write the internal mechanism for sum operation using  reduce function on this given\n",
        "list:[47,11,42,13];\n",
        "    - Output: 113\n",
        "    "
      ],
      "metadata": {
        "id": "w--dKEyv-GHI"
      }
    },
    {
      "cell_type": "markdown",
      "source": [
        "#Practical Questions:\n"
      ],
      "metadata": {
        "id": "a3nyzSimCYuh"
      }
    },
    {
      "cell_type": "code",
      "source": [
        "#1. Write a Python function that takes a list of numbers as input and returns the sum of all even numbers in the list.\n",
        "def sum(a):\n",
        "  s=0\n",
        "  for i in a:\n",
        "    if i%2==0:\n",
        "      s=s+i\n",
        "  return s\n",
        "a=[1,2,3,4,5,6,7,8,9]\n",
        "print(sum(a))"
      ],
      "metadata": {
        "colab": {
          "base_uri": "https://localhost:8080/"
        },
        "id": "eAw_EIEtCZy_",
        "outputId": "ec7fdddf-6252-424c-b704-b62da3d5fdd5"
      },
      "execution_count": 1,
      "outputs": [
        {
          "output_type": "stream",
          "name": "stdout",
          "text": [
            "20\n"
          ]
        }
      ]
    },
    {
      "cell_type": "code",
      "source": [
        "#2. Create a Python function that accepts a string and returns the reverse of that string.\n",
        "\n",
        "def rev(s):\n",
        "\n",
        "  j=len(s)-1\n",
        "  k=\"\"\n",
        "  while(j!=-1):\n",
        "    k=k+s[j]\n",
        "    j = j-1\n",
        "  return k\n",
        "\n",
        "name=\"Shivu\"\n",
        "name=list(name)\n",
        "print(rev(name))"
      ],
      "metadata": {
        "colab": {
          "base_uri": "https://localhost:8080/"
        },
        "id": "Vikh1I4QCtnP",
        "outputId": "05186fd7-7602-4cee-cf36-68ef0bcfc556"
      },
      "execution_count": 8,
      "outputs": [
        {
          "output_type": "stream",
          "name": "stdout",
          "text": [
            "uvihS\n"
          ]
        }
      ]
    },
    {
      "cell_type": "code",
      "source": [
        "#3. Implement a Python function that takes a list of integers and returns a new list containing the squares of each number.\n",
        "\n",
        "li=[1,2,3,4,5]\n",
        "list(map(lambda x : x**2 , li))"
      ],
      "metadata": {
        "colab": {
          "base_uri": "https://localhost:8080/"
        },
        "id": "zJ0ZZcBvDL2K",
        "outputId": "66f0bf3b-099f-4114-a8dd-f157abfa06a1"
      },
      "execution_count": 9,
      "outputs": [
        {
          "output_type": "execute_result",
          "data": {
            "text/plain": [
              "[1, 4, 9, 16, 25]"
            ]
          },
          "metadata": {},
          "execution_count": 9
        }
      ]
    },
    {
      "cell_type": "code",
      "source": [
        "#4. Write a Python function that checks if a given number is prime or not from 1 to 200.\n",
        "def is_prime(num):\n",
        "    \"\"\"Check if a number is prime.\"\"\"\n",
        "    if num <= 1:\n",
        "        return False\n",
        "    for i in range(2, int(num**0.5) + 1):\n",
        "        if num % i == 0:\n",
        "            return False\n",
        "    return True\n",
        "\n",
        "# Check numbers from 1 to 200 and display if they are prime\n",
        "n = int(input(\"Enter the number: \"))\n",
        "print(is_prime(n))\n",
        "\n"
      ],
      "metadata": {
        "colab": {
          "base_uri": "https://localhost:8080/"
        },
        "id": "I71Zhb7TERPG",
        "outputId": "1331670f-657b-4b7b-da94-a02c8553951d"
      },
      "execution_count": 15,
      "outputs": [
        {
          "output_type": "stream",
          "name": "stdout",
          "text": [
            "Enter the number: 3\n",
            "True\n"
          ]
        }
      ]
    },
    {
      "cell_type": "code",
      "source": [
        "#5. Create an iterator class in Python that generates the Fibonacci sequence up to a specified number of terms.\n",
        "def fibo(n):\n",
        "    a=0\n",
        "    b=1\n",
        "    for i in range(n):\n",
        "        yield a#first give yield i\n",
        "        a, b = b,a+b\n",
        "\n",
        "a=fibo(5)\n",
        "next(a)"
      ],
      "metadata": {
        "colab": {
          "base_uri": "https://localhost:8080/"
        },
        "id": "fuDEq-XMEsRb",
        "outputId": "59a23207-f3e8-4a1d-af4d-c828a9815650"
      },
      "execution_count": 17,
      "outputs": [
        {
          "output_type": "execute_result",
          "data": {
            "text/plain": [
              "0"
            ]
          },
          "metadata": {},
          "execution_count": 17
        }
      ]
    },
    {
      "cell_type": "code",
      "source": [
        "#6. Write a generator function in Python that yields the powers of 2 up to a given exponent.\n",
        "def gen_exp(num):\n",
        "  for i in range(num+1):\n",
        "    yield 2**i\n",
        "\n",
        "a=gen_exp(7)\n",
        "print(next(a))\n",
        "for num in a:\n",
        "  print(num)"
      ],
      "metadata": {
        "colab": {
          "base_uri": "https://localhost:8080/"
        },
        "id": "cZZXxZc2F5gj",
        "outputId": "045cd11a-c83f-43e4-bcdb-ff225dd83860"
      },
      "execution_count": 21,
      "outputs": [
        {
          "output_type": "stream",
          "name": "stdout",
          "text": [
            "1\n",
            "2\n",
            "4\n",
            "8\n",
            "16\n",
            "32\n",
            "64\n",
            "128\n"
          ]
        }
      ]
    },
    {
      "cell_type": "code",
      "source": [
        " #Implement a generator function that reads a file line by line and yields each line as a string.\n",
        "def yield_lines_from_string():\n",
        "    \"\"\"Generate lines from a predefined string one at a time.\"\"\"\n",
        "    text = \"\"\"Hello, world!\n",
        "This is a test.\n",
        "Python is great!\"\"\"\n",
        "\n",
        "    for line in text.split('\\n'):  # Splitting the string by newline characters\n",
        "        yield line.strip()  # Strips leading/trailing whitespace\n",
        "\n",
        "# Example usage:\n",
        "for line in yield_lines_from_string():\n",
        "    print(line)\n"
      ],
      "metadata": {
        "colab": {
          "base_uri": "https://localhost:8080/"
        },
        "id": "uPxQiHNoGSK1",
        "outputId": "1b4e532e-a1c1-4432-8bd3-fab216951393"
      },
      "execution_count": 25,
      "outputs": [
        {
          "output_type": "stream",
          "name": "stdout",
          "text": [
            "Hello, world!\n",
            "This is a test.\n",
            "Python is great!\n"
          ]
        }
      ]
    },
    {
      "cell_type": "code",
      "source": [
        "#8. Use a lambda function in Python to sort a list of tuples based on the second element of each tuple.\n",
        "tp = (\"shivu\", \"kumar\", \"rvce\", \"pattanagere\")\n",
        "\n",
        "tp=list(tp)\n",
        "sorted_tp = sorted(tp, key=lambda x: x[1])\n",
        "\n",
        "# Print the sorted list\n",
        "print(sorted_tp)\n"
      ],
      "metadata": {
        "colab": {
          "base_uri": "https://localhost:8080/"
        },
        "id": "ZeAVq8i1G9VI",
        "outputId": "9b6239db-f611-4c23-ab44-c3863532cad8"
      },
      "execution_count": 28,
      "outputs": [
        {
          "output_type": "stream",
          "name": "stdout",
          "text": [
            "['pattanagere', 'shivu', 'kumar', 'rvce']\n"
          ]
        }
      ]
    },
    {
      "cell_type": "code",
      "source": [
        "#9. Write a Python program that uses `map()` to convert a list of temperatures from Celsius to Fahrenheit\n",
        "celsius_temperatures = [0, 10, 20, 30, 40]\n",
        "\n",
        "fahrenheit_temperatures = list(map(lambda c: (c * 9/5) + 32, celsius_temperatures))\n",
        "print(fahrenheit_temperatures )"
      ],
      "metadata": {
        "colab": {
          "base_uri": "https://localhost:8080/"
        },
        "id": "aAE5tn0ZID7z",
        "outputId": "27dd3349-a425-40d5-860a-50cb0719a314"
      },
      "execution_count": 29,
      "outputs": [
        {
          "output_type": "stream",
          "name": "stdout",
          "text": [
            "[32.0, 50.0, 68.0, 86.0, 104.0]\n"
          ]
        }
      ]
    },
    {
      "cell_type": "code",
      "source": [
        "#10.  Create a Python program that uses `filter()` to remove all the vowels from a given string.\n",
        "def rem_vowel(name):\n",
        "  newname=\"\"\n",
        "  for i in name:\n",
        "    if i=='a' or i=='e' or i=='i' or i=='o' or i=='u':\n",
        "      name=name.replace(i,'')\n",
        "  return name\n",
        "name=\"shivu\"\n",
        "print(list(filter(rem_vowel,name)))"
      ],
      "metadata": {
        "colab": {
          "base_uri": "https://localhost:8080/"
        },
        "id": "p0lhqlZ0IhxO",
        "outputId": "3c1d72ae-cb67-49ff-eafa-119e7121179b"
      },
      "execution_count": 33,
      "outputs": [
        {
          "output_type": "stream",
          "name": "stdout",
          "text": [
            "['s', 'h', 'v']\n"
          ]
        }
      ]
    },
    {
      "cell_type": "code",
      "source": [
        "#11.  Write a Python program, which returns a list with 2-tuples. Each tuple consists of the order number and the\n",
        "#product of the price per item and the quantity. The product should be increased by 100, if the value of the\n",
        "#order is smaller than 400.\n",
        "#Write a Python program using lambda and map.\n",
        "\n",
        "l1 = [[3456, \"Python\", 4, 500], [6786, \"DSA in C++\", 3, 400], [8762, \"Java\", 9, 300], [9807, \"C Language\", 7, 700]]\n",
        "\n",
        "# Function to increment the value if less than 400\n",
        "inc_100 = lambda x: x[3] + 100 if x[3] < 400 else x[3]\n",
        "\n",
        "new_li = []\n",
        "\n",
        "for i in l1:\n",
        "    # Apply inc_100 function on each sublist and add the result to new_li\n",
        "    new_li.append(list(map(inc_100, [i])))\n",
        "\n",
        "print(new_li)\n",
        "\n",
        "\n",
        "\n"
      ],
      "metadata": {
        "colab": {
          "base_uri": "https://localhost:8080/"
        },
        "id": "Ab0Ugn_BJpIy",
        "outputId": "9965fae2-1414-4404-dedd-e6c0e5dc7b2d"
      },
      "execution_count": 42,
      "outputs": [
        {
          "output_type": "stream",
          "name": "stdout",
          "text": [
            "[[500], [400], [400], [700]]\n"
          ]
        }
      ]
    },
    {
      "cell_type": "code",
      "source": [],
      "metadata": {
        "id": "SqR5xAmKQuOK"
      },
      "execution_count": null,
      "outputs": []
    }
  ]
}