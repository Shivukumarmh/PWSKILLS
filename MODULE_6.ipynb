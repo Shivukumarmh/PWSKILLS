{
  "nbformat": 4,
  "nbformat_minor": 0,
  "metadata": {
    "colab": {
      "provenance": []
    },
    "kernelspec": {
      "name": "python3",
      "display_name": "Python 3"
    },
    "language_info": {
      "name": "python"
    }
  },
  "cells": [
    {
      "cell_type": "code",
      "execution_count": null,
      "metadata": {
        "id": "dQ906bBVFlAU"
      },
      "outputs": [],
      "source": []
    },
    {
      "cell_type": "markdown",
      "source": [
        "#Files, exceptional handling,logging and memory management\n",
        "\n",
        "##Theory Questions\n",
        "\n",
        "1. What is the difference between interpreted and compiled languages?\n",
        "    - Interpreted Language: Source code is converted into byte code.\n",
        "    - It is bit abstract compared to compiled language.\n",
        "    - Compiled Language: Source code is converted into machine code.\n",
        "    - Eg: C,C++,C#\n",
        "\n",
        "2. What is exception handling in Python?\n",
        "    - The process of identifying and fixing the issues/bugs in the code is called exception handling.\n",
        "\n",
        "3.  What is the purpose of the finally block in exception handling?\n",
        "    - finally block in the try - except is that finally executed always no matter what , whether the try block or except block executes.\n",
        "\n",
        "4. What is logging in Python?\n",
        "    - Python's built-in logging module allows you to track events that happen while the program is running.\n",
        "\n",
        "5. What is the significance of the __del__ method in Python?\n",
        "    - The _______del___ method in Python is a special method, also called a destructor. It is called when an object is about to be destroyed, meaning the reference count of the object drops to zero and it is no longer accessible.\n",
        "\n",
        "6.  What is the difference between import and from ... import in Python?\n",
        "    - The import statement is used to import an entire module.\n",
        "    - After importing, we need to use the module name as a prefix to access its members\n",
        "    - The from ... import statement allows you to import specific members (functions, classes, variables) directly from a module.\n",
        "    - from module_name import *  to import all the modules.\n",
        "\n",
        "7. How can you handle multiple exceptions in Python?\n",
        "    - By usnig exception names within the paranthesis separated by comma's in the except block.\n",
        "    - Eg: except (FileNotFoundError,DivisionByZeroError) as e:\n",
        "\n",
        "8. What is the purpose of the with statement when handling files in Python?\n",
        "    - It helps to close the file all by it self whenever we complete the write,read,append .... operations.\n",
        "\n",
        "9. What is the difference between multithreading and multiprocessing?\n",
        "    - Multithreading: It is the process of using only one processor/core but using multiple threads within one processor.\n",
        "    - Multiprocessing: It is the process of using multiple processor to execute the program/process.\n",
        "\n",
        "10. What are the advantages of using logging in a program?\n",
        "    - It helps to keep track of the program and make the record of the flow of program.\n",
        "    - It notes the possible error/flows/info/warnings.\n",
        "11. What is memory management in Python?\n",
        "    - Memory management in Python refers to the process of allocating, managing, and freeing memory during the execution of a Python program. Python provides an efficient and automatic memory management system, which includes techniques like garbage collection and dynamic memory allocation.\n",
        "\n",
        "12. What are the basic steps involved in exception handling in Python?\n",
        "    - It has try,except,else,finally block within it.\n",
        "13. Why is memory management important in Python?\n",
        "    - It helps to allocate the resources efficiently.\n",
        "    - It improves the performance of the system.\n",
        "\n",
        "14. What is the role of try and except in exception handling?\n",
        "    - So whenever we get the error in the try block , it goes to the except block to execute the code.\n",
        "\n",
        "15. How does Python's garbage collection system work?\n",
        "    -\n",
        "Python's garbage collection system is responsible for automatically managing memory by reclaiming memory occupied by objects that are no longer in use.\n",
        "    - This system uses a combination of \" reference counting \" and \"cyclic garbage collection\" to identify and clean up unused objects.\n",
        "    \n",
        "16. What is the purpose of the else block in exception handling?\n",
        "    - The else block of the try - except is executed when ever the try block is executed. Like try-except block is executed without the execption.\n",
        "\n",
        "17. What are the common logging levels in Python?\n",
        "    - The common logging levels are DEBUG,INFO,WARNING,ERROR,CRITICAL.\n",
        "\n",
        "18. What is the difference between os.fork() and multiprocessing in Python?\n",
        "\n",
        "    - os.fork() and the multiprocessing module in Python are both used to create new processes.\n",
        "    - os.fork() is a low-level system call available on Unix-based systems (e.g., Linux, macOS).\n",
        "    - os.fork() creates a new child process by duplicating the calling process.\n",
        "    - multiprocessing is a high-level Python module for creating and managing processes.\n",
        "    - It is platform-independent and works on both Unix and Windows.\n",
        "\n",
        "19. What is the importance of closing a file in Python?\n",
        "    - It is used in order to get the reflection of all the commits/modification/updation in the file.\n",
        "    - It ensures that the resources used by the file (like memory and file descriptors) are properly released and any pending operations are completed.\n",
        "\n",
        "20. What is the difference between file.read() and file.readline() in Python?\n",
        "    - file.read() >> It is used to read the entire file.Returns the content as a single string.Can be high for large files\n",
        "    - Reads a single line from the file, up to the newline character (\\n).Efficient for large files.\n",
        "\n",
        "21. What is the logging module in Python used for?\n",
        "    - To make the recordings of the variables, it keeps track of the flow of the program.\n",
        "\n",
        "22. What is the os module in Python used for in file handling?\n",
        "    - The os module in Python provides a way to interact with the operating system and perform tasks related to file and directory handling. It offers functions to create, delete, rename, and manipulate files and directories, along with other system-level operations.\n",
        "\n",
        "23. What are the challenges associated with memory management in Python?\n",
        "    -  Circular References\n",
        "    -  Memory Leaks\n",
        "    -  Lack of Manual Control\n",
        "24. How do you raise an exception manually in Python?\n",
        "    - By creating the exception class we can raise an exception manually.\n",
        "\n",
        "25. Why is it important to use multithreading in certain applications?\n",
        "    - Processes which require the resources related to each other . Which need to share the same memory allocation.\n"
      ],
      "metadata": {
        "id": "JFTsq90tFlhy"
      }
    },
    {
      "cell_type": "markdown",
      "source": [
        "##Practical Questions\n"
      ],
      "metadata": {
        "id": "pL1ypEDeUS9N"
      }
    },
    {
      "cell_type": "code",
      "source": [
        "#1. How can you open a file for writing in Python and write a string to it\n",
        "\n",
        "fi=open(\"example.txt\",'w')\n",
        "fi.write(\"Hay, How are you?\\n\")\n",
        "fi.write(\"Stay consistant and everythis is going to work.\")\n",
        "fi.close()\n",
        "fi=open(\"example.txt\",'r')\n",
        "fi.mode\n",
        "fi.read()"
      ],
      "metadata": {
        "colab": {
          "base_uri": "https://localhost:8080/",
          "height": 35
        },
        "id": "SZK3u-4mUUHg",
        "outputId": "64780136-d29f-4147-c744-3d4596f68e50"
      },
      "execution_count": 11,
      "outputs": [
        {
          "output_type": "execute_result",
          "data": {
            "text/plain": [
              "'Hay, How are you?\\nStay consistant and everythis is going to work.'"
            ],
            "application/vnd.google.colaboratory.intrinsic+json": {
              "type": "string"
            }
          },
          "metadata": {},
          "execution_count": 11
        }
      ]
    },
    {
      "cell_type": "code",
      "source": [
        "#2.  Write a Python program to read the contents of a file and print each line\n",
        "\n",
        "fl=open(\"example.txt\",'r')\n",
        "for i in fl:\n",
        "  print(i)"
      ],
      "metadata": {
        "colab": {
          "base_uri": "https://localhost:8080/"
        },
        "id": "fYhrELlOUtLC",
        "outputId": "b67e3434-2e6c-41b1-ecf1-469795af4eb7"
      },
      "execution_count": 12,
      "outputs": [
        {
          "output_type": "stream",
          "name": "stdout",
          "text": [
            "Hay, How are you?\n",
            "\n",
            "Stay consistant and everythis is going to work.\n"
          ]
        }
      ]
    },
    {
      "cell_type": "code",
      "source": [
        "#3.  How would you handle a case where the file doesn't exist while trying to open it for reading\n",
        "\n",
        "try:\n",
        "  fl=open(\"exam.txt\",'r')\n",
        "except FileNotFoundError as e:\n",
        "  print(e)"
      ],
      "metadata": {
        "colab": {
          "base_uri": "https://localhost:8080/"
        },
        "id": "P29TjfQEV2O5",
        "outputId": "5b9aacb4-751f-4154-a1b8-a50e09e7fb93"
      },
      "execution_count": 13,
      "outputs": [
        {
          "output_type": "stream",
          "name": "stdout",
          "text": [
            "[Errno 2] No such file or directory: 'exam.txt'\n"
          ]
        }
      ]
    },
    {
      "cell_type": "code",
      "source": [
        "#4. Write a Python script that reads from one file and writes its content to another file.\n",
        "f1=open(\"example.txt\",'r')\n",
        "f2=open(\"exam.txt\",'w')\n",
        "for i in f1:\n",
        "  f2.write(i)\n",
        "f1.close()\n",
        "f2.close()\n",
        "\n",
        "f2=open(\"exam.txt\",'r')\n",
        "f2.read()"
      ],
      "metadata": {
        "colab": {
          "base_uri": "https://localhost:8080/",
          "height": 35
        },
        "id": "ObfV3QpLWstH",
        "outputId": "8fd37e2f-7377-4def-abd1-59e04c2c0e40"
      },
      "execution_count": 15,
      "outputs": [
        {
          "output_type": "execute_result",
          "data": {
            "text/plain": [
              "'Hay, How are you?\\nStay consistant and everythis is going to work.'"
            ],
            "application/vnd.google.colaboratory.intrinsic+json": {
              "type": "string"
            }
          },
          "metadata": {},
          "execution_count": 15
        }
      ]
    },
    {
      "cell_type": "code",
      "source": [
        "#5. How would you catch and handle division by zero error in Python\n",
        "\n",
        "try:\n",
        "  a=10/0\n",
        "except ZeroDivisionError as e:\n",
        "  print(e)"
      ],
      "metadata": {
        "colab": {
          "base_uri": "https://localhost:8080/"
        },
        "id": "h-ELf8x3XL5U",
        "outputId": "56ec690d-b9e0-4113-9cd7-5d7de36f7ca7"
      },
      "execution_count": 16,
      "outputs": [
        {
          "output_type": "stream",
          "name": "stdout",
          "text": [
            "division by zero\n"
          ]
        }
      ]
    },
    {
      "cell_type": "code",
      "source": [
        "#6.Write a Python program that logs an error message to a log file when a division by zero exception occursF\n",
        "import logging\n",
        "logging.basicConfig(filename=\"error.log\",level=logging.ERROR)#DEBUG,INFO,WARNING,ERROR,CRITICAL\n",
        "try:\n",
        "  a=10/0\n",
        "except ZeroDivisionError as e:\n",
        "  print(e)\n",
        "  logging.error(e)"
      ],
      "metadata": {
        "colab": {
          "base_uri": "https://localhost:8080/"
        },
        "id": "GjD8axPzXbgw",
        "outputId": "4b9a5c3c-95e6-455c-adb0-19dd792b2398"
      },
      "execution_count": 18,
      "outputs": [
        {
          "output_type": "stream",
          "name": "stderr",
          "text": [
            "ERROR:root:division by zero\n"
          ]
        },
        {
          "output_type": "stream",
          "name": "stdout",
          "text": [
            "division by zero\n"
          ]
        }
      ]
    },
    {
      "cell_type": "code",
      "source": [
        "#7. How do you log information at different levels (INFO, ERROR, WARNING) in Python using the logging module\n",
        "import logging\n",
        "logging.basicConfig(filename=\"logging.log\",level=logging.DEBUG)\n",
        "logging.info(\"This is info message\")\n",
        "logging.error(\"This is error message\")\n",
        "logging.warning(\"This is warning message\")"
      ],
      "metadata": {
        "colab": {
          "base_uri": "https://localhost:8080/"
        },
        "id": "Z-l3bQ3YX0v8",
        "outputId": "f8045895-c752-4d44-d062-d7cf2b3836e9"
      },
      "execution_count": 19,
      "outputs": [
        {
          "output_type": "stream",
          "name": "stderr",
          "text": [
            "ERROR:root:This is error message\n",
            "WARNING:root:This is warning message\n"
          ]
        }
      ]
    },
    {
      "cell_type": "code",
      "source": [
        "#8. Write a program to handle a file opening error using exception handling\n",
        "\n",
        "try:\n",
        "  fl=open(\"ds.txt\",'r')\n",
        "except FileNotFoundError as e:\n",
        "  print(e)"
      ],
      "metadata": {
        "colab": {
          "base_uri": "https://localhost:8080/"
        },
        "id": "KUa879HbYqMe",
        "outputId": "5d31ba54-c314-44fc-9a40-73e3388e0059"
      },
      "execution_count": 20,
      "outputs": [
        {
          "output_type": "stream",
          "name": "stdout",
          "text": [
            "[Errno 2] No such file or directory: 'ds.txt'\n"
          ]
        }
      ]
    },
    {
      "cell_type": "code",
      "source": [
        "#9. How can you read a file line by line and store its content in a list in Python\n",
        "fi=open(\"example.txt\",'r')\n",
        "fi.readlines()"
      ],
      "metadata": {
        "colab": {
          "base_uri": "https://localhost:8080/"
        },
        "id": "5P28hMgIY3M3",
        "outputId": "2e309d6d-9d2d-4a3e-d0f1-1f71dee86521"
      },
      "execution_count": 21,
      "outputs": [
        {
          "output_type": "execute_result",
          "data": {
            "text/plain": [
              "['Hay, How are you?\\n', 'Stay consistant and everythis is going to work.']"
            ]
          },
          "metadata": {},
          "execution_count": 21
        }
      ]
    },
    {
      "cell_type": "code",
      "source": [
        "#10.  How can you append data to an existing file in Python\n",
        "fil=open(\"example.txt\",'a')\n",
        "fil.write(\"I didnot understand this\")\n",
        "fil.close()\n",
        "fil=open(\"example.txt\",'r')\n",
        "fil.read()"
      ],
      "metadata": {
        "colab": {
          "base_uri": "https://localhost:8080/",
          "height": 35
        },
        "id": "PKbj7ndQZJEG",
        "outputId": "a42e3943-f883-4c18-e081-fe0f164d4534"
      },
      "execution_count": 22,
      "outputs": [
        {
          "output_type": "execute_result",
          "data": {
            "text/plain": [
              "'Hay, How are you?\\nStay consistant and everythis is going to work.I didnot understand this'"
            ],
            "application/vnd.google.colaboratory.intrinsic+json": {
              "type": "string"
            }
          },
          "metadata": {},
          "execution_count": 22
        }
      ]
    },
    {
      "cell_type": "code",
      "source": [
        "#11. Write a Python program that uses a try-except block to handle an error when attempting to access a dictionary key that doesn't existF\n",
        "di={\"Name\":\"Shivu\",\n",
        "    \"Age\":20,\n",
        "    \"College\":\"Rvce\"}\n",
        "\n",
        "try:\n",
        "  di[\"Gender\"]\n",
        "except KeyError as e:\n",
        "  print(\"The error is \",e)\n",
        "except exception as e:\n",
        "  print(e)"
      ],
      "metadata": {
        "colab": {
          "base_uri": "https://localhost:8080/"
        },
        "id": "IVoZeh1-Z0Tl",
        "outputId": "203f5541-15e3-41d2-9ae3-f35761a17dfa"
      },
      "execution_count": 26,
      "outputs": [
        {
          "output_type": "stream",
          "name": "stdout",
          "text": [
            "The error is  'Gender'\n"
          ]
        }
      ]
    },
    {
      "cell_type": "code",
      "source": [
        "#12. Write a program that demonstrates using multiple except blocks to handle different types of exceptions.\n",
        "\n",
        "try:\n",
        "  a=10/0\n",
        "except ZeroDivisionError as e:\n",
        "  print(e)\n",
        "except NameError as e:\n",
        "  print(e)\n",
        "except Exception as e:\n",
        "  print(e)"
      ],
      "metadata": {
        "colab": {
          "base_uri": "https://localhost:8080/"
        },
        "id": "RJhVi5jVaOWa",
        "outputId": "48b187c7-41ff-4ce8-fb68-588a9844decb"
      },
      "execution_count": 27,
      "outputs": [
        {
          "output_type": "stream",
          "name": "stdout",
          "text": [
            "division by zero\n"
          ]
        }
      ]
    },
    {
      "cell_type": "code",
      "source": [
        "#13. How would you check if a file exists before attempting to read it in Python.\n",
        "import os\n",
        "\n",
        "file_path = \"example.txt\"\n",
        "\n",
        "if os.path.exists(file_path):\n",
        "    with open(file_path, \"r\") as file:\n",
        "        content = file.read()\n",
        "        print(content)\n",
        "else:\n",
        "    print(f\"The file '{file_path}' does not exist.\")\n"
      ],
      "metadata": {
        "colab": {
          "base_uri": "https://localhost:8080/"
        },
        "id": "s5l4EazEa5lE",
        "outputId": "b1995d1e-ece0-4071-f1ae-33bcdc077988"
      },
      "execution_count": 28,
      "outputs": [
        {
          "output_type": "stream",
          "name": "stdout",
          "text": [
            "Hay, How are you?\n",
            "Stay consistant and everythis is going to work.I didnot understand this\n"
          ]
        }
      ]
    },
    {
      "cell_type": "code",
      "source": [
        "#14. Write a program that uses the logging module to log both informational and error messages\n",
        "import logging\n",
        "logging.basicConfig(filename=\"Logging_record.log\",level=logging.INFO)\n",
        "try:\n",
        "  logging.debug(\"This is the division operation we are performing.\")\n",
        "  a=10/0\n",
        "except ZeroDivisionError as e:\n",
        "  logging.error(f\"There is error {e}\")\n",
        "  print(e)\n",
        "except NameError as e:\n",
        "  print(e)\n",
        "except Exception as e:\n",
        "  print(e)"
      ],
      "metadata": {
        "colab": {
          "base_uri": "https://localhost:8080/"
        },
        "id": "4oGa4eWEbfzO",
        "outputId": "882c5546-b147-42c4-a75a-9a5800944e54"
      },
      "execution_count": 29,
      "outputs": [
        {
          "output_type": "stream",
          "name": "stderr",
          "text": [
            "ERROR:root:There is error division by zero\n"
          ]
        },
        {
          "output_type": "stream",
          "name": "stdout",
          "text": [
            "division by zero\n"
          ]
        }
      ]
    },
    {
      "cell_type": "code",
      "source": [
        "#15. Write a Python program that prints the content of a file and handles the case when the file is empty\n",
        "def print_file_content(file_path):\n",
        "    try:\n",
        "        # Check if the file exists and is not empty\n",
        "        with open(file_path, \"r\") as file:\n",
        "            content = file.read()\n",
        "\n",
        "            if not content:  # If the content is empty\n",
        "                print(\"The file exists but is empty.\")\n",
        "            else:\n",
        "                print(\"File Content:\")\n",
        "                print(content)\n",
        "    except FileNotFoundError:\n",
        "        print(f\"The file '{file_path}' does not exist.\")\n",
        "    except Exception as e:\n",
        "        print(f\"An error occurred: {e}\")\n",
        "\n",
        "\n",
        "file_path = \"example.txt\"\n",
        "print_file_content(file_path)\n"
      ],
      "metadata": {
        "colab": {
          "base_uri": "https://localhost:8080/"
        },
        "id": "Irklq3MRihdz",
        "outputId": "1b176830-9ccd-45f0-896d-42dea16e88c0"
      },
      "execution_count": 32,
      "outputs": [
        {
          "output_type": "stream",
          "name": "stdout",
          "text": [
            "File Content:\n",
            "Hay, How are you?\n",
            "Stay consistant and everythis is going to work.I didnot understand this\n"
          ]
        }
      ]
    },
    {
      "cell_type": "code",
      "source": [
        "#16. Demonstrate how to use memory profiling to check the memory usage of a small program\n",
        "import tracemalloc\n",
        "\n",
        "def process_data():\n",
        "    # Create a large list\n",
        "    data = [i ** 2 for i in range(10**6)]\n",
        "    # Free up the memory used by the list\n",
        "    del data\n",
        "    return \"Data processed\"\n",
        "\n",
        "# Start tracking memory usage\n",
        "tracemalloc.start()\n",
        "\n",
        "# Take the first snapshot\n",
        "start_snapshot = tracemalloc.take_snapshot()\n",
        "\n",
        "# Run the function\n",
        "process_data()\n",
        "\n",
        "# Take the second snapshot\n",
        "end_snapshot = tracemalloc.take_snapshot()\n",
        "\n",
        "# Compare the snapshots\n",
        "stats = end_snapshot.compare_to(start_snapshot, 'lineno')\n",
        "\n",
        "# Display memory usage\n",
        "for stat in stats[:10]:  # Display top 10 memory usage stats\n",
        "    print(stat)\n"
      ],
      "metadata": {
        "colab": {
          "base_uri": "https://localhost:8080/"
        },
        "id": "RwRhlNwOjWml",
        "outputId": "f20ca0c7-2238-43b7-d34c-cb8acc4299a9"
      },
      "execution_count": 33,
      "outputs": [
        {
          "output_type": "stream",
          "name": "stdout",
          "text": [
            "/usr/local/lib/python3.10/dist-packages/debugpy/_vendored/pydevd/_pydevd_bundle/_debug_adapter/pydevd_schema.py:13674: size=7992 B (+7992 B), count=27 (+27), average=296 B\n",
            "/usr/local/lib/python3.10/dist-packages/debugpy/_vendored/pydevd/_pydevd_bundle/pydevd_net_command.py:96: size=5840 B (+5840 B), count=1 (+1), average=5840 B\n",
            "/usr/local/lib/python3.10/dist-packages/google/colab/_variable_inspector.py:28: size=2208 B (+2208 B), count=1 (+1), average=2208 B\n",
            "/usr/local/lib/python3.10/dist-packages/debugpy/_vendored/pydevd/_pydevd_bundle/_debug_adapter/pydevd_base_schema.py:27: size=2208 B (+2208 B), count=1 (+1), average=2208 B\n",
            "/usr/local/lib/python3.10/dist-packages/debugpy/_vendored/pydevd/_pydevd_bundle/_debug_adapter/pydevd_base_schema.py:26: size=2208 B (+2208 B), count=1 (+1), average=2208 B\n",
            "/usr/local/lib/python3.10/dist-packages/debugpy/_vendored/pydevd/_pydevd_bundle/_debug_adapter/pydevd_schema.py:13511: size=1664 B (+1664 B), count=26 (+26), average=64 B\n",
            "/usr/local/lib/python3.10/dist-packages/debugpy/_vendored/pydevd/_pydevd_bundle/_debug_adapter/pydevd_schema.py:13655: size=1536 B (+1536 B), count=24 (+24), average=64 B\n",
            "/usr/lib/python3.10/json/encoder.py:257: size=1288 B (+1288 B), count=23 (+23), average=56 B\n",
            "/usr/local/lib/python3.10/dist-packages/debugpy/_vendored/pydevd/_pydevd_bundle/pydevd_comm.py:204: size=1057 B (+1057 B), count=1 (+1), average=1057 B\n",
            "/usr/lib/python3.10/codeop.py:118: size=1054 B (+974 B), count=19 (+17), average=55 B\n"
          ]
        }
      ]
    },
    {
      "cell_type": "code",
      "source": [
        "#17.  Write a Python program to create and write a list of numbers to a file, one number per line\n",
        "fi=open(\"number.txt\",'w')\n",
        "for i in range(10):\n",
        "  fi.write(str(i)+\"\\n\")\n",
        "fi.close()\n",
        "fi=open(\"number.txt\",'r')\n",
        "fi.readline()\n",
        "fi.read()"
      ],
      "metadata": {
        "colab": {
          "base_uri": "https://localhost:8080/",
          "height": 35
        },
        "id": "DyDD-keslP9C",
        "outputId": "83443ba3-391b-4e73-a5b9-5abb17aeebb0"
      },
      "execution_count": 36,
      "outputs": [
        {
          "output_type": "execute_result",
          "data": {
            "text/plain": [
              "'1\\n2\\n3\\n4\\n5\\n6\\n7\\n8\\n9\\n'"
            ],
            "application/vnd.google.colaboratory.intrinsic+json": {
              "type": "string"
            }
          },
          "metadata": {},
          "execution_count": 36
        }
      ]
    },
    {
      "cell_type": "code",
      "source": [
        "#18. How would you implement a basic logging setup that logs to a file with rotation after 1MB\n",
        "import logging\n",
        "from logging.handlers import RotatingFileHandler\n",
        "\n",
        "# Create a logger object\n",
        "logger = logging.getLogger(\"MyLogger\")\n",
        "logger.setLevel(logging.DEBUG)  # Set log level to DEBUG\n",
        "\n",
        "# Create a RotatingFileHandler\n",
        "handler = RotatingFileHandler('my_log.log', maxBytes=1*1024*1024, backupCount=3)\n",
        "handler.setLevel(logging.DEBUG)\n",
        "\n",
        "# Create a log format\n",
        "formatter = logging.Formatter('%(asctime)s - %(levelname)s - %(message)s')\n",
        "handler.setFormatter(formatter)\n",
        "\n",
        "# Add the handler to the logger\n",
        "logger.addHandler(handler)\n",
        "\n",
        "# Example log messages\n",
        "logger.debug(\"This is a debug message.\")\n",
        "logger.info(\"This is an info message.\")\n",
        "logger.warning(\"This is a warning message.\")\n",
        "logger.error(\"This is an error message.\")\n",
        "logger.critical(\"This is a critical message.\")\n"
      ],
      "metadata": {
        "colab": {
          "base_uri": "https://localhost:8080/"
        },
        "id": "JVSReAf-lqQm",
        "outputId": "8af49119-5d01-4df2-cb52-6da8a9a37e57"
      },
      "execution_count": 37,
      "outputs": [
        {
          "output_type": "stream",
          "name": "stderr",
          "text": [
            "DEBUG:MyLogger:This is a debug message.\n",
            "INFO:MyLogger:This is an info message.\n",
            "WARNING:MyLogger:This is a warning message.\n",
            "ERROR:MyLogger:This is an error message.\n",
            "CRITICAL:MyLogger:This is a critical message.\n"
          ]
        }
      ]
    },
    {
      "cell_type": "code",
      "source": [
        "#19. Write a program that handles both IndexError and KeyError using a try-except blockF\n",
        "di={\"Name\":\"Shivu\",\n",
        "    \"Age\":20,\n",
        "    \"College\":\"Rvce\"}\n",
        "\n",
        "try:\n",
        "  di[\"Gender\"]\n",
        "except (KeyError,IndexError) as e:\n",
        "  print(f\"The error is {e} \")\n",
        "except exception as e:\n",
        "  print(e)"
      ],
      "metadata": {
        "colab": {
          "base_uri": "https://localhost:8080/"
        },
        "id": "VhynC-qhmKB5",
        "outputId": "dae9fd82-a7b8-419f-8a0e-0a4b61a26f3d"
      },
      "execution_count": 39,
      "outputs": [
        {
          "output_type": "stream",
          "name": "stdout",
          "text": [
            "The error is 'Gender' \n"
          ]
        }
      ]
    },
    {
      "cell_type": "code",
      "source": [
        "#20. How would you open a file and read its contents using a context manager in Python\n",
        "with open('example.txt', 'r') as file:\n",
        "    lines = file.readlines()\n",
        "    print(lines)\n"
      ],
      "metadata": {
        "colab": {
          "base_uri": "https://localhost:8080/"
        },
        "id": "6u8VozzdmVkb",
        "outputId": "d91b5430-45f4-4124-abf8-9bc508c3ffe8"
      },
      "execution_count": 43,
      "outputs": [
        {
          "output_type": "stream",
          "name": "stdout",
          "text": [
            "['Hay, How are you?\\n', 'Stay consistant and everythis is going to work.I didnot understand thisI stay in Karnataka. I am pursuing Bachelor degree.']\n"
          ]
        }
      ]
    },
    {
      "cell_type": "code",
      "source": [
        "#21. Write a Python program that reads a file and prints the number of occurrences of a specific word\n",
        "with open(\"example.txt\",'a') as fi:\n",
        "  fi.write(\"I stay in Karnataka. I am pursuing Bachelor degree.\")\n",
        "  fi.close()\n",
        "with open(\"exapmle.txt\",'r') as fi:\n",
        "  for i in fi:\n",
        "    c=i.count('I')\n",
        "    print(c)"
      ],
      "metadata": {
        "colab": {
          "base_uri": "https://localhost:8080/"
        },
        "id": "7E6DTGWemq_0",
        "outputId": "ec92f2a8-f591-4909-efa7-ce616cb6f864"
      },
      "execution_count": 48,
      "outputs": [
        {
          "output_type": "stream",
          "name": "stdout",
          "text": [
            "2\n"
          ]
        }
      ]
    },
    {
      "cell_type": "code",
      "source": [
        "#22.  How can you check if a file is empty before attempting to read its contents\n",
        "import os\n",
        "os.path.getsize(\"example.txt\")"
      ],
      "metadata": {
        "colab": {
          "base_uri": "https://localhost:8080/"
        },
        "id": "sPVSCjCWnY-l",
        "outputId": "b98d5eca-4e58-491e-f1fc-1fbab6fee7fb"
      },
      "execution_count": 49,
      "outputs": [
        {
          "output_type": "execute_result",
          "data": {
            "text/plain": [
              "395"
            ]
          },
          "metadata": {},
          "execution_count": 49
        }
      ]
    },
    {
      "cell_type": "code",
      "source": [
        "#23.  Write a Python program that writes to a log file when an error occurs during file handling\n",
        "import logging\n",
        "logging.basicConfig(filename='error_log.txt', level=logging.ERROR)\n",
        "try:\n",
        "    with open('non_existent_file.txt', 'r') as file:\n",
        "        content = file.read()\n",
        "except FileNotFoundError as e:\n",
        "    logging.error(f\"File not found error: {str(e)}\")"
      ],
      "metadata": {
        "colab": {
          "base_uri": "https://localhost:8080/"
        },
        "id": "F4o5Au8gn9MQ",
        "outputId": "55ddd52e-c8f5-4afb-eff0-92031e9c3d5b"
      },
      "execution_count": 50,
      "outputs": [
        {
          "output_type": "stream",
          "name": "stderr",
          "text": [
            "ERROR:root:File not found error: [Errno 2] No such file or directory: 'non_existent_file.txt'\n"
          ]
        }
      ]
    },
    {
      "cell_type": "code",
      "source": [],
      "metadata": {
        "id": "TfDWZ0sVoJBn"
      },
      "execution_count": null,
      "outputs": []
    }
  ]
}